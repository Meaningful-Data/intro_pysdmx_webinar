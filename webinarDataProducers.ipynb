{
 "cells": [
  {
   "metadata": {},
   "cell_type": "markdown",
   "source": "# Overview of the use case",
   "id": "a32e2eb94c19ca5d"
  },
  {
   "metadata": {},
   "cell_type": "markdown",
   "source": [
    "---------(Overview on the use case,\n",
    "why is it important for data producers,\n",
    "usefulness of the library\n",
    "when reading non-SDMX data\n",
    "and convert to SDMX. Mention validations and calculations over VTL.)---------"
   ],
   "id": "11302234f134bc8a"
  },
  {
   "metadata": {},
   "cell_type": "markdown",
   "source": [
    "Talking points and agenda:\n",
    "\n",
    "- General use of pysdmx on Data Producers\n",
    "- Outside the SDMX garden, looking at LEI and GLEIF\n",
    "- Data cleaning and set up using pandas\n",
    "- Downloading and reading the ConceptScheme on SDMX-ML 2.1 using read_sdmx\n",
    "- Retrieving the Schema from FMR (FusionJSON)\n",
    "- Convert the Schema to a VTL DataStructure\n",
    "- Using VTL to validate the data\n",
    "- Using VTL to perform calculations\n",
    "- Generate SDMX file with the aggregated data\n",
    "- Reading back the SDMX file using read_sdmx"
   ],
   "id": "65d61c815e32a66"
  },
  {
   "metadata": {},
   "cell_type": "markdown",
   "source": "# Retrieving the Schema from FMR",
   "id": "ee14d288997e4000"
  },
  {
   "metadata": {},
   "cell_type": "markdown",
   "source": "---------(Explanation on the code, overview on the FMR retrieval documentation)---------\n",
   "id": "18c8b5283c7d6919"
  },
  {
   "cell_type": "code",
   "id": "initial_id",
   "metadata": {
    "collapsed": true,
    "ExecuteTime": {
     "end_time": "2025-01-23T14:42:46.006601Z",
     "start_time": "2025-01-23T14:42:45.353543Z"
    }
   },
   "source": [
    "from pysdmx.api.fmr import RegistryClient\n",
    "from pysdmx.io.format import StructureFormat\n",
    "\n",
    "client = RegistryClient(\n",
    "    \"http://localhost:8080/sdmx/v2\", format=StructureFormat.FUSION_JSON\n",
    ")\n",
    "# Recommend to use debugger to see the response\n",
    "schema = client.get_schema(\n",
    "    \"datastructure\", agency=\"MD\", id=\"LEI_DATA\", version=\"1.0\"\n",
    ")"
   ],
   "outputs": [],
   "execution_count": 18
  },
  {
   "metadata": {},
   "cell_type": "markdown",
   "source": "# Convert the Schema to a VTL DataStructure",
   "id": "f40d7239f6f5615b"
  },
  {
   "metadata": {},
   "cell_type": "markdown",
   "source": "## Setting up the code",
   "id": "ccfdcbf55e93e644"
  },
  {
   "metadata": {
    "ExecuteTime": {
     "end_time": "2025-01-23T14:42:46.021552Z",
     "start_time": "2025-01-23T14:42:46.008266Z"
    }
   },
   "cell_type": "code",
   "source": [
    "import json\n",
    "from typing import Optional, Dict, Any, List\n",
    "from pysdmx.model.dataflow import DataStructureDefinition, Component\n",
    "from pysdmx.model import Role\n",
    "\n",
    "VTL_DTYPES_MAPPING = {\n",
    "    \"String\": \"String\",\n",
    "    \"Alpha\": \"String\",\n",
    "    \"AlphaNumeric\": \"String\",\n",
    "    \"Numeric\": \"String\",\n",
    "    \"BigInteger\": \"Integer\",\n",
    "    \"Integer\": \"Integer\",\n",
    "    \"Long\": \"Integer\",\n",
    "    \"Short\": \"Integer\",\n",
    "    \"Decimal\": \"Number\",\n",
    "    \"Float\": \"Number\",\n",
    "    \"Double\": \"Number\",\n",
    "    \"Boolean\": \"Boolean\",\n",
    "    \"URI\": \"String\",\n",
    "    \"Count\": \"Integer\",\n",
    "    \"InclusiveValueRange\": \"Number\",\n",
    "    \"ExclusiveValueRange\": \"Number\",\n",
    "    \"Incremental\": \"Number\",\n",
    "    \"ObservationalTimePeriod\": \"Time_Period\",\n",
    "    \"StandardTimePeriod\": \"Time_Period\",\n",
    "    \"BasicTimePeriod\": \"Date\",\n",
    "    \"GregorianTimePeriod\": \"Date\",\n",
    "    \"GregorianYear\": \"Date\",\n",
    "    \"GregorianYearMonth\": \"Date\",\n",
    "    \"GregorianMonth\": \"Date\",\n",
    "    \"GregorianDay\": \"Date\",\n",
    "    \"ReportingTimePeriod\": \"Time_Period\",\n",
    "    \"ReportingYear\": \"Time_Period\",\n",
    "    \"ReportingSemester\": \"Time_Period\",\n",
    "    \"ReportingTrimester\": \"Time_Period\",\n",
    "    \"ReportingQuarter\": \"Time_Period\",\n",
    "    \"ReportingMonth\": \"Time_Period\",\n",
    "    \"ReportingWeek\": \"Time_Period\",\n",
    "    \"ReportingDay\": \"Time_Period\",\n",
    "    \"DateTime\": \"Date\",\n",
    "    \"TimeRange\": \"Time\",\n",
    "    \"Month\": \"String\",\n",
    "    \"MonthDay\": \"String\",\n",
    "    \"Day\": \"String\",\n",
    "    \"Time\": \"String\",\n",
    "    \"Duration\": \"Duration\",\n",
    "}\n",
    "\n",
    "VTL_ROLE_MAPPING = {\n",
    "    Role.DIMENSION: \"Identifier\",\n",
    "    Role.MEASURE: \"Measure\",\n",
    "    Role.ATTRIBUTE: \"Attribute\",\n",
    "}\n",
    "\n",
    "\n",
    "def to_vtl_json(\n",
    "    dsd: DataStructureDefinition, path: Optional[str] = None\n",
    ") -> Optional[Dict[str, Any]]:\n",
    "    \"\"\"Formats the DataStructureDefinition as a VTL DataStructure.\"\"\"\n",
    "    dataset_name = dsd.id\n",
    "    components = []\n",
    "    NAME = \"name\"\n",
    "    ROLE = \"role\"\n",
    "    TYPE = \"type\"\n",
    "    NULLABLE = \"nullable\"\n",
    "\n",
    "    _components: List[Component] = []\n",
    "    _components.extend(dsd.components.dimensions)\n",
    "    _components.extend(dsd.components.measures)\n",
    "    _components.extend(dsd.components.attributes)\n",
    "\n",
    "    for c in _components:\n",
    "        _type = VTL_DTYPES_MAPPING[c.dtype]\n",
    "        _nullability = c.role != Role.DIMENSION\n",
    "        _role = VTL_ROLE_MAPPING[c.role]\n",
    "\n",
    "        component = {\n",
    "            NAME: c.id,\n",
    "            ROLE: _role,\n",
    "            TYPE: _type,\n",
    "            NULLABLE: _nullability,\n",
    "        }\n",
    "\n",
    "        components.append(component)\n",
    "\n",
    "    result = {\n",
    "        \"datasets\": [{\"name\": dataset_name, \"DataStructure\": components}]\n",
    "    }\n",
    "    if path is not None:\n",
    "        with open(path, \"w\") as fp:\n",
    "            json.dump(result, fp, indent=2)\n",
    "        return None\n",
    "\n",
    "    return result"
   ],
   "id": "bb15dbe1bbae6074",
   "outputs": [],
   "execution_count": 19
  },
  {
   "metadata": {},
   "cell_type": "markdown",
   "source": "## Convert the Schema to a VTL DataStructure",
   "id": "c338d2e18812b045"
  },
  {
   "metadata": {
    "ExecuteTime": {
     "end_time": "2025-01-23T14:42:46.027899Z",
     "start_time": "2025-01-23T14:42:46.022564Z"
    }
   },
   "cell_type": "code",
   "source": [
    "vtl_datastructure = to_vtl_json(schema)\n",
    "vtl_datastructure"
   ],
   "id": "47d0aa10345373df",
   "outputs": [
    {
     "data": {
      "text/plain": [
       "{'datasets': [{'name': 'LEI_DATA',\n",
       "   'DataStructure': [{'name': 'LEI',\n",
       "     'role': 'Identifier',\n",
       "     'type': 'String',\n",
       "     'nullable': False},\n",
       "    {'name': 'POSTAL_CODE',\n",
       "     'role': 'Measure',\n",
       "     'type': 'String',\n",
       "     'nullable': True},\n",
       "    {'name': 'COUNTRY_INCORPORATION',\n",
       "     'role': 'Measure',\n",
       "     'type': 'String',\n",
       "     'nullable': True},\n",
       "    {'name': 'COUNTRY_HEADQUARTERS',\n",
       "     'role': 'Measure',\n",
       "     'type': 'String',\n",
       "     'nullable': True},\n",
       "    {'name': 'CATEGORY',\n",
       "     'role': 'Measure',\n",
       "     'type': 'String',\n",
       "     'nullable': True},\n",
       "    {'name': 'SUBCATEGORY',\n",
       "     'role': 'Measure',\n",
       "     'type': 'String',\n",
       "     'nullable': True},\n",
       "    {'name': 'LEGAL_FORM',\n",
       "     'role': 'Measure',\n",
       "     'type': 'String',\n",
       "     'nullable': True},\n",
       "    {'name': 'LEGAL_NAME',\n",
       "     'role': 'Attribute',\n",
       "     'type': 'String',\n",
       "     'nullable': True}]}]}"
      ]
     },
     "execution_count": 20,
     "metadata": {},
     "output_type": "execute_result"
    }
   ],
   "execution_count": 20
  },
  {
   "metadata": {},
   "cell_type": "markdown",
   "source": "# Using VTL to validate the data",
   "id": "3f3374bb987f74c8"
  },
  {
   "metadata": {},
   "cell_type": "markdown",
   "source": [
    "---------(Explanation on VTL validations usefulness,\n",
    "validating more than one component. Quick overview on the code\n",
    "using VTL Playground)---------"
   ],
   "id": "946c133de69a530"
  },
  {
   "metadata": {},
   "cell_type": "markdown",
   "source": "## Setting up the code",
   "id": "4da0b6b4d28ca7da"
  },
  {
   "metadata": {
    "ExecuteTime": {
     "end_time": "2025-01-23T14:42:46.083060Z",
     "start_time": "2025-01-23T14:42:46.031983Z"
    }
   },
   "cell_type": "code",
   "source": [
    "import pandas as pd\n",
    "from vtlengine import run\n",
    "\n",
    "def _load_script(filename):\n",
    "    with open(filename, \"r\") as f:\n",
    "        script = f.read()\n",
    "    return script\n",
    "\n",
    "\n",
    "script = _load_script(\"vtl/script.vtl\")\n",
    "data_df = pd.read_csv(\"data_files/golden_copy_10000.csv\")\n",
    "datapoints = {\"LEI_DATA\": data_df}"
   ],
   "id": "dd946eb30616af39",
   "outputs": [],
   "execution_count": 21
  },
  {
   "metadata": {},
   "cell_type": "markdown",
   "source": "## Validate the data using VTL",
   "id": "27033a888adf030"
  },
  {
   "metadata": {},
   "cell_type": "markdown",
   "source": "---------(Explanation on the code, overview on the VTL run method documentation)---------",
   "id": "15e00e96a0d8eb68"
  },
  {
   "metadata": {
    "ExecuteTime": {
     "end_time": "2025-01-23T14:42:46.334336Z",
     "start_time": "2025-01-23T14:42:46.084130Z"
    }
   },
   "cell_type": "code",
   "source": "run_result = run(script=script, data_structures=vtl_datastructure, datapoints=datapoints)",
   "id": "2f848e828a5a3ccb",
   "outputs": [],
   "execution_count": 22
  },
  {
   "metadata": {},
   "cell_type": "markdown",
   "source": "### Getting the total number of errors",
   "id": "711d3b08dba1ffe7"
  },
  {
   "metadata": {
    "ExecuteTime": {
     "end_time": "2025-01-23T14:42:46.341718Z",
     "start_time": "2025-01-23T14:42:46.334336Z"
    }
   },
   "cell_type": "code",
   "source": "run_result['errors_count'].data",
   "id": "8637c1a26593e8d0",
   "outputs": [
    {
     "data": {
      "text/plain": [
       "   errorlevel  int_var\n",
       "0           1      NaN"
      ],
      "text/html": [
       "<div>\n",
       "<style scoped>\n",
       "    .dataframe tbody tr th:only-of-type {\n",
       "        vertical-align: middle;\n",
       "    }\n",
       "\n",
       "    .dataframe tbody tr th {\n",
       "        vertical-align: top;\n",
       "    }\n",
       "\n",
       "    .dataframe thead th {\n",
       "        text-align: right;\n",
       "    }\n",
       "</style>\n",
       "<table border=\"1\" class=\"dataframe\">\n",
       "  <thead>\n",
       "    <tr style=\"text-align: right;\">\n",
       "      <th></th>\n",
       "      <th>errorlevel</th>\n",
       "      <th>int_var</th>\n",
       "    </tr>\n",
       "  </thead>\n",
       "  <tbody>\n",
       "    <tr>\n",
       "      <th>0</th>\n",
       "      <td>1</td>\n",
       "      <td>NaN</td>\n",
       "    </tr>\n",
       "  </tbody>\n",
       "</table>\n",
       "</div>"
      ]
     },
     "execution_count": 23,
     "metadata": {},
     "output_type": "execute_result"
    }
   ],
   "execution_count": 23
  },
  {
   "metadata": {},
   "cell_type": "markdown",
   "source": "### Analysing data on Subcategory errors",
   "id": "63e6c09dae75a208"
  },
  {
   "metadata": {
    "ExecuteTime": {
     "end_time": "2025-01-23T14:42:46.357952Z",
     "start_time": "2025-01-23T14:42:46.342244Z"
    }
   },
   "cell_type": "code",
   "source": [
    "cols_to_analyse = ['CATEGORY', 'SUBCATEGORY', 'errorcode', 'errorlevel']\n",
    "run_result['validation.subcategories_errors'].data[cols_to_analyse]"
   ],
   "id": "c313bba6c3c7e2fa",
   "outputs": [
    {
     "data": {
      "text/plain": [
       "                     CATEGORY SUBCATEGORY errorcode  errorlevel\n",
       "0  RESIDENT_GOVERNMENT_ENTITY        None        C1           1\n",
       "1  RESIDENT_GOVERNMENT_ENTITY        None        C1           1\n",
       "2  RESIDENT_GOVERNMENT_ENTITY        None        C1           1\n",
       "3  RESIDENT_GOVERNMENT_ENTITY        None        C1           1"
      ],
      "text/html": [
       "<div>\n",
       "<style scoped>\n",
       "    .dataframe tbody tr th:only-of-type {\n",
       "        vertical-align: middle;\n",
       "    }\n",
       "\n",
       "    .dataframe tbody tr th {\n",
       "        vertical-align: top;\n",
       "    }\n",
       "\n",
       "    .dataframe thead th {\n",
       "        text-align: right;\n",
       "    }\n",
       "</style>\n",
       "<table border=\"1\" class=\"dataframe\">\n",
       "  <thead>\n",
       "    <tr style=\"text-align: right;\">\n",
       "      <th></th>\n",
       "      <th>CATEGORY</th>\n",
       "      <th>SUBCATEGORY</th>\n",
       "      <th>errorcode</th>\n",
       "      <th>errorlevel</th>\n",
       "    </tr>\n",
       "  </thead>\n",
       "  <tbody>\n",
       "    <tr>\n",
       "      <th>0</th>\n",
       "      <td>RESIDENT_GOVERNMENT_ENTITY</td>\n",
       "      <td>None</td>\n",
       "      <td>C1</td>\n",
       "      <td>1</td>\n",
       "    </tr>\n",
       "    <tr>\n",
       "      <th>1</th>\n",
       "      <td>RESIDENT_GOVERNMENT_ENTITY</td>\n",
       "      <td>None</td>\n",
       "      <td>C1</td>\n",
       "      <td>1</td>\n",
       "    </tr>\n",
       "    <tr>\n",
       "      <th>2</th>\n",
       "      <td>RESIDENT_GOVERNMENT_ENTITY</td>\n",
       "      <td>None</td>\n",
       "      <td>C1</td>\n",
       "      <td>1</td>\n",
       "    </tr>\n",
       "    <tr>\n",
       "      <th>3</th>\n",
       "      <td>RESIDENT_GOVERNMENT_ENTITY</td>\n",
       "      <td>None</td>\n",
       "      <td>C1</td>\n",
       "      <td>1</td>\n",
       "    </tr>\n",
       "  </tbody>\n",
       "</table>\n",
       "</div>"
      ]
     },
     "execution_count": 24,
     "metadata": {},
     "output_type": "execute_result"
    }
   ],
   "execution_count": 24
  },
  {
   "metadata": {},
   "cell_type": "markdown",
   "source": "---------(Explanation on Subcategory errors)---------",
   "id": "92941fb6751112c7"
  },
  {
   "metadata": {
    "ExecuteTime": {
     "end_time": "2025-01-23T14:42:46.361439Z",
     "start_time": "2025-01-23T14:42:46.358967Z"
    }
   },
   "cell_type": "code",
   "source": "",
   "id": "146e83a27074f54",
   "outputs": [],
   "execution_count": 24
  }
 ],
 "metadata": {
  "kernelspec": {
   "display_name": "Python 3",
   "language": "python",
   "name": "python3"
  },
  "language_info": {
   "codemirror_mode": {
    "name": "ipython",
    "version": 2
   },
   "file_extension": ".py",
   "mimetype": "text/x-python",
   "name": "python",
   "nbconvert_exporter": "python",
   "pygments_lexer": "ipython2",
   "version": "2.7.6"
  }
 },
 "nbformat": 4,
 "nbformat_minor": 5
}
