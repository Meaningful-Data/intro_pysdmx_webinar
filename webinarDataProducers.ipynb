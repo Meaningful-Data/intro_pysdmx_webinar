{
 "cells": [
  {
   "metadata": {},
   "cell_type": "markdown",
   "source": "# Overview of the use case",
   "id": "a32e2eb94c19ca5d"
  },
  {
   "metadata": {},
   "cell_type": "markdown",
   "source": [
    "Talking points and agenda:\n",
    "\n",
    "- General use of pysdmx on Data Producers\n",
    "- Outside the SDMX garden, looking at LEI and GLEIF\n",
    "- Data cleaning and set up using pandas\n",
    "- Downloading and reading the ConceptScheme on SDMX-ML 2.1 using read_sdmx\n",
    "- Retrieving the Schema from FMR (FusionJSON)\n",
    "- Convert the Schema to a VTL DataStructure\n",
    "- Using VTL to validate the data\n",
    "- Using VTL to perform calculations\n",
    "- Generate SDMX file with the aggregated data\n",
    "- Reading back the SDMX file using read_sdmx\n",
    "\n",
    "### List of pysdmx classes and functions used in this notebook:\n",
    "\n",
    "Functions:\n",
    "- pysdmx.io.read_sdmx\n",
    "- pysdmx.io.csv.sdmx20.writer.write\n",
    "\n",
    "Classes:\n",
    "- pysdmx.api.fmr.RegistryClient (and methods)\n",
    "- pysdmx.model.message.Message (and methods)\n",
    "- pysdmx.io.pd.PandasDataset\n",
    "- pysdmx.model.dataflow.Schema"
   ],
   "id": "65d61c815e32a66"
  },
  {
   "metadata": {},
   "cell_type": "markdown",
   "source": "# Outside the SDMX garden, looking at LEI and GLEIF",
   "id": "5ce654850edb5602"
  },
  {
   "metadata": {},
   "cell_type": "markdown",
   "source": [
    "The Legal Entity Identifier (LEI) is a unique global identifier for legal entities participating in financial transactions. Its purpose is to help identify legal entities on a globally accessible database (source [Wikipedia](https://en.wikipedia.org/wiki/Legal_Entity_Identifier).\n",
    "\n",
    "The Global LEI Foundation (GLEIF) supports the implementation and use of the LEI. It makes it possible to access all the LEI records through APIs or downloading file.\n",
    "\n",
    "The GLEIF site does not use SDMX. It maintains a [data dictionary](https://www.gleif.org/en/lei-data/access-and-use-lei-data/gleif-data-dictionary) and [an API](https://www.gleif.org/en/lei-data/gleif-api). It also makes possible downloading [golden copies of the data, as well as delta files](https://www.gleif.org/en/lei-data/gleif-golden-copy).\n",
    "\n",
    "\n",
    "As relevant master data about entities, a good integration with the GLEIF data may be in the interest of many institutions.\n",
    "For institutions having SDMX-driven system, it may be useful to create SDMX metadata and convert the LEI data from their source formats to SDMX, so that they can be integrated int their systems. Besides, it may be useful for those entities to validate the input data an generate new statistics.\n",
    "\n",
    "This notebook is presenting a way to use pysdmx and the VTL Engine to represent a statistical process that includes:\n",
    "1. The colletion of data from the GLEIF\n",
    "2. The transformation of data into SDMX\n",
    "3. The structural validation of data using FMR\n",
    "4. The consistency validation of the data using VTL\n",
    "5. The generation of new aggregated statistics using VTL\n",
    "6. The conversion of the data into SDMX\n",
    "\n",
    "\n",
    "For this exercise, the necessary SDMX metadata have been added to an FMR instance hosted by Meaningfuldata (https://fmr.meaningfuldata.eu/)"
   ],
   "id": "2c8795d1c0a1dfe4"
  },
  {
   "metadata": {},
   "cell_type": "markdown",
   "source": "## Data cleaning and set up using pandas and pysdmx",
   "id": "f6f0ec891c33d0c2"
  },
  {
   "metadata": {},
   "cell_type": "markdown",
   "source": [
    "For this exercise, we will use as input the [golden copy from the GLEIF](https://www.gleif.org/en/lei-data/gleif-golden-copy/download-the-golden-copy#/), and we will transform it to get a dataset following the desired data structure, which can be fournd [here](https://fmr.meaningfuldata.eu/sdmx/v2/structure/datastructure/MD/LEI_DATA/1.0).\n",
    "\n",
    "Note that we designed this DSD from the existing data, but took a subset of the data and renamed the attributes to make them closer to SDMX practices.\n",
    "\n",
    "We are using Pandas to read the original data and to transform them to get a final dataset that follows the DSD.\n",
    "\n",
    "The steps are:\n",
    "\n",
    "1. Download the data from [the source](https://www.gleif.org/en/lei-data/gleif-golden-copy/download-the-golden-copy#.zip)\n",
    "2. Read the downloaded data with Pandas\n",
    "3. Drop the columns not used in the DSD and rename the existing ones\n",
    "4. Filter to get only the active entities (the GLEIF publishes also inactive entities)\n",
    "\n",
    "The code uses the chunking capabilities of Pandas for better memory efficiency.\n",
    "This is a prototype of the streaming capabilities with pandas in pysdmx,\n",
    "which will be available by the end of 2025.\n",
    "\n",
    "This code requires to install the extra data from pysdmx,\n",
    "which simply install pandas.\n",
    "\n",
    "```bash\n",
    "pip install pysdmx[data]\n",
    "```"
   ],
   "id": "a62e158b6618a05e"
  },
  {
   "metadata": {
    "ExecuteTime": {
     "end_time": "2025-01-26T15:00:17.107326Z",
     "start_time": "2025-01-26T15:00:17.096371Z"
    }
   },
   "cell_type": "code",
   "source": [
    "#Import required libraries\n",
    "\n",
    "import requests\n",
    "import zipfile\n",
    "\n",
    "import pandas as pd"
   ],
   "id": "d34df8e918dc7ad1",
   "outputs": [],
   "execution_count": 24
  },
  {
   "metadata": {
    "ExecuteTime": {
     "end_time": "2025-01-26T14:52:21.169347Z",
     "start_time": "2025-01-26T14:51:41.959913Z"
    }
   },
   "cell_type": "code",
   "source": [
    "#1. Download the Golden Copy file\n",
    "\n",
    "GOLDEN_COPY_PATH = 'data_files/lei_golden_copy'\n",
    "\n",
    "url = 'https://leidata-preview.gleif.org/storage/golden-copy-files/2025/01/25/1034569/20250125-1600-gleif-goldencopy-lei2-golden-copy.csv.zip'\n",
    "r = requests.get(url)\n",
    "\n",
    "with open(GOLDEN_COPY_PATH + '.zip', 'wb') as f:\n",
    "    f.write(r.content)\n",
    "\n",
    "\n",
    "with zipfile.ZipFile(GOLDEN_COPY_PATH + '.zip', 'r') as zip_ref:\n",
    "    zip_ref.extractall('data_files/')\n",
    "    file_name = zip_ref.namelist()[0]\n"
   ],
   "id": "e47710901a4724a9",
   "outputs": [
    {
     "name": "stderr",
     "output_type": "stream",
     "text": [
      "\n",
      "KeyboardInterrupt\n",
      "\n"
     ]
    }
   ],
   "execution_count": 5
  },
  {
   "metadata": {
    "ExecuteTime": {
     "end_time": "2025-01-26T15:06:10.946782Z",
     "start_time": "2025-01-26T15:06:10.946782Z"
    }
   },
   "cell_type": "code",
   "source": [
    "# Load file, rename columns and save new files.\n",
    "from utils import streaming_load_save_csv_file\n",
    "\n",
    "streaming_load_save_csv_file(\n",
    "    golden_copy_original_path=\"data_files/golden-copy-original.csv\",\n",
    "    output_filename=\"data_files/golden_copy_changed_10000_sdmx.csv\",\n",
    "    use_sdmx_csv=True, nrows=10000)\n",
    "\n",
    "streaming_load_save_csv_file(\n",
    "    golden_copy_original_path=\"data_files/golden-copy-original.csv\",\n",
    "    output_filename=\"data_files/golden_copy_changed_10000.csv\",\n",
    "    use_sdmx_csv=False, nrows=10000)"
   ],
   "id": "9d1ad9b1e5904767",
   "outputs": [],
   "execution_count": null
  },
  {
   "metadata": {},
   "cell_type": "markdown",
   "source": "# Reading the ConceptScheme on SDMX-ML 2.1 using read_sdmx",
   "id": "e9cd54706832df80"
  },
  {
   "metadata": {},
   "cell_type": "markdown",
   "source": [
    "For this example,\n",
    "we generated a DataStructure on FMR called LEI_DATA,\n",
    "with Short URN: DataStructure=MD:LEI_DATA(1.0),\n",
    "with the required codelists to be used for structural validation on FMR.\n",
    "\n",
    "This structures is also available at SDMX_Structures/structures.xml file in this project,\n",
    "or at the MeaningfulData FMR (fmr.meaningfuldata.eu).\n",
    "Currently the library does not support SDMX-ML 3.0,\n",
    "so we will read only the ConceptScheme and descendants (available at SDMX_Structures/concepts.xml).\n",
    "\n",
    "To ensure we are able to validate the data correctly,\n",
    "we extended the CL_AREA codelist from SDMX\n",
    "to add a code that was present in the LEI Golden Copy.\n",
    "\n",
    "The code below reads the ConceptScheme and descendants,\n",
    "ensure you have installed the xml extra from pysdmx.\n",
    "\n",
    "```bash\n",
    "pip install pysdmx[xml]\n",
    "```"
   ],
   "id": "ba71c4a3cf16ae61"
  },
  {
   "metadata": {
    "ExecuteTime": {
     "end_time": "2025-01-26T15:01:13.478213Z",
     "start_time": "2025-01-26T15:01:12.905510Z"
    }
   },
   "cell_type": "code",
   "source": [
    "from pysdmx.io import read_sdmx\n",
    "\n",
    "structures_msg = read_sdmx(\"SDMX_Structures/concepts.xml\")\n",
    "# We can access the first concept scheme, or look for the short_urn\n",
    "concept_scheme1 = structures_msg.get_concept_schemes()[0]\n",
    "concept_scheme2 = structures_msg.get_concept_scheme(\n",
    "    \"ConceptScheme=MD:LEI_CONCEPTS(1.0)\")"
   ],
   "id": "54730d5e00a754a5",
   "outputs": [],
   "execution_count": 26
  },
  {
   "metadata": {},
   "cell_type": "markdown",
   "source": "# Retrieving the Schema from FMR",
   "id": "ee14d288997e4000"
  },
  {
   "metadata": {},
   "cell_type": "markdown",
   "source": "We may use as well the FMR Webservices to download the Schema from FMR, using the FusionJSON format.",
   "id": "d713bc0ad0a4400c"
  },
  {
   "metadata": {
    "ExecuteTime": {
     "end_time": "2025-01-26T15:06:10.946782Z",
     "start_time": "2025-01-26T15:01:32.863479Z"
    }
   },
   "cell_type": "code",
   "source": [
    "from pysdmx.api.fmr import RegistryClient\n",
    "from pysdmx.io.format import StructureFormat\n",
    "\n",
    "client = RegistryClient(\n",
    "    \"https://fmr.meaningfuldata.eu/sdmx/v2\", format=StructureFormat.FUSION_JSON\n",
    ")\n",
    "# Recommend to use debugger to see the response\n",
    "schema = client.get_schema(\n",
    "    \"datastructure\", agency=\"MD\", id=\"LEI_DATA\", version=\"1.0\"\n",
    ")"
   ],
   "id": "initial_id",
   "outputs": [
    {
     "ename": "KeyboardInterrupt",
     "evalue": "",
     "output_type": "error",
     "traceback": [
      "\u001B[1;31m---------------------------------------------------------------------------\u001B[0m",
      "\u001B[1;31mKeyboardInterrupt\u001B[0m                         Traceback (most recent call last)",
      "Cell \u001B[1;32mIn[28], line 8\u001B[0m\n\u001B[0;32m      4\u001B[0m client \u001B[38;5;241m=\u001B[39m RegistryClient(\n\u001B[0;32m      5\u001B[0m     \u001B[38;5;124m\"\u001B[39m\u001B[38;5;124mhttps://fmr.meaningfuldata.eu/sdmx/v2\u001B[39m\u001B[38;5;124m\"\u001B[39m, \u001B[38;5;28mformat\u001B[39m\u001B[38;5;241m=\u001B[39mStructureFormat\u001B[38;5;241m.\u001B[39mFUSION_JSON\n\u001B[0;32m      6\u001B[0m )\n\u001B[0;32m      7\u001B[0m \u001B[38;5;66;03m# Recommend to use debugger to see the response\u001B[39;00m\n\u001B[1;32m----> 8\u001B[0m schema \u001B[38;5;241m=\u001B[39m \u001B[43mclient\u001B[49m\u001B[38;5;241m.\u001B[39mget_schema(\n\u001B[0;32m      9\u001B[0m     \u001B[38;5;124m\"\u001B[39m\u001B[38;5;124mdatastructure\u001B[39m\u001B[38;5;124m\"\u001B[39m, agency\u001B[38;5;241m=\u001B[39m\u001B[38;5;124m\"\u001B[39m\u001B[38;5;124mMD\u001B[39m\u001B[38;5;124m\"\u001B[39m, \u001B[38;5;28mid\u001B[39m\u001B[38;5;241m=\u001B[39m\u001B[38;5;124m\"\u001B[39m\u001B[38;5;124mLEI_DATA\u001B[39m\u001B[38;5;124m\"\u001B[39m, version\u001B[38;5;241m=\u001B[39m\u001B[38;5;124m\"\u001B[39m\u001B[38;5;124m1.0\u001B[39m\u001B[38;5;124m\"\u001B[39m\n\u001B[0;32m     10\u001B[0m )\n",
      "File \u001B[1;32m_pydevd_bundle\\pydevd_cython_win32_311_64.pyx:1187\u001B[0m, in \u001B[0;36m_pydevd_bundle.pydevd_cython_win32_311_64.SafeCallWrapper.__call__\u001B[1;34m()\u001B[0m\n",
      "File \u001B[1;32m_pydevd_bundle\\pydevd_cython_win32_311_64.pyx:627\u001B[0m, in \u001B[0;36m_pydevd_bundle.pydevd_cython_win32_311_64.PyDBFrame.trace_dispatch\u001B[1;34m()\u001B[0m\n",
      "File \u001B[1;32m_pydevd_bundle\\pydevd_cython_win32_311_64.pyx:937\u001B[0m, in \u001B[0;36m_pydevd_bundle.pydevd_cython_win32_311_64.PyDBFrame.trace_dispatch\u001B[1;34m()\u001B[0m\n",
      "File \u001B[1;32m_pydevd_bundle\\pydevd_cython_win32_311_64.pyx:928\u001B[0m, in \u001B[0;36m_pydevd_bundle.pydevd_cython_win32_311_64.PyDBFrame.trace_dispatch\u001B[1;34m()\u001B[0m\n",
      "File \u001B[1;32m_pydevd_bundle\\pydevd_cython_win32_311_64.pyx:585\u001B[0m, in \u001B[0;36m_pydevd_bundle.pydevd_cython_win32_311_64.PyDBFrame.do_wait_suspend\u001B[1;34m()\u001B[0m\n",
      "File \u001B[1;32mC:\\Program Files\\JetBrains\\PyCharm 2024.1.1\\plugins\\python\\helpers\\pydev\\pydevd.py:1201\u001B[0m, in \u001B[0;36mPyDB.do_wait_suspend\u001B[1;34m(self, thread, frame, event, arg, send_suspend_message, is_unhandled_exception)\u001B[0m\n\u001B[0;32m   1198\u001B[0m         from_this_thread\u001B[38;5;241m.\u001B[39mappend(frame_id)\n\u001B[0;32m   1200\u001B[0m \u001B[38;5;28;01mwith\u001B[39;00m \u001B[38;5;28mself\u001B[39m\u001B[38;5;241m.\u001B[39m_threads_suspended_single_notification\u001B[38;5;241m.\u001B[39mnotify_thread_suspended(thread_id, stop_reason):\n\u001B[1;32m-> 1201\u001B[0m     \u001B[38;5;28;43mself\u001B[39;49m\u001B[38;5;241;43m.\u001B[39;49m\u001B[43m_do_wait_suspend\u001B[49m\u001B[43m(\u001B[49m\u001B[43mthread\u001B[49m\u001B[43m,\u001B[49m\u001B[43m \u001B[49m\u001B[43mframe\u001B[49m\u001B[43m,\u001B[49m\u001B[43m \u001B[49m\u001B[43mevent\u001B[49m\u001B[43m,\u001B[49m\u001B[43m \u001B[49m\u001B[43marg\u001B[49m\u001B[43m,\u001B[49m\u001B[43m \u001B[49m\u001B[43msuspend_type\u001B[49m\u001B[43m,\u001B[49m\u001B[43m \u001B[49m\u001B[43mfrom_this_thread\u001B[49m\u001B[43m)\u001B[49m\n",
      "File \u001B[1;32mC:\\Program Files\\JetBrains\\PyCharm 2024.1.1\\plugins\\python\\helpers\\pydev\\pydevd.py:1216\u001B[0m, in \u001B[0;36mPyDB._do_wait_suspend\u001B[1;34m(self, thread, frame, event, arg, suspend_type, from_this_thread)\u001B[0m\n\u001B[0;32m   1213\u001B[0m             \u001B[38;5;28mself\u001B[39m\u001B[38;5;241m.\u001B[39m_call_mpl_hook()\n\u001B[0;32m   1215\u001B[0m         \u001B[38;5;28mself\u001B[39m\u001B[38;5;241m.\u001B[39mprocess_internal_commands()\n\u001B[1;32m-> 1216\u001B[0m         \u001B[43mtime\u001B[49m\u001B[38;5;241;43m.\u001B[39;49m\u001B[43msleep\u001B[49m\u001B[43m(\u001B[49m\u001B[38;5;241;43m0.01\u001B[39;49m\u001B[43m)\u001B[49m\n\u001B[0;32m   1218\u001B[0m \u001B[38;5;28mself\u001B[39m\u001B[38;5;241m.\u001B[39mcancel_async_evaluation(get_current_thread_id(thread), \u001B[38;5;28mstr\u001B[39m(\u001B[38;5;28mid\u001B[39m(frame)))\n\u001B[0;32m   1220\u001B[0m \u001B[38;5;66;03m# process any stepping instructions\u001B[39;00m\n",
      "\u001B[1;31mKeyboardInterrupt\u001B[0m: "
     ]
    }
   ],
   "execution_count": 28
  },
  {
   "metadata": {},
   "cell_type": "markdown",
   "source": "# Using VTL to validate the data with GLEIF data quality checks",
   "id": "3f3374bb987f74c8"
  },
  {
   "metadata": {},
   "cell_type": "markdown",
   "source": [
    "The VTL language allows us to perform validations over the data,\n",
    "with a business friendly syntax. \n",
    "\n",
    "For this purpose, at MeaningfulData we have developed a library called vtlengine,\n",
    "which is able to run VTL scripts over data.\n",
    "\n",
    "In this example,\n",
    "we will use a VTL script\n",
    "that performs validations based on the GLEIF data quality checks\n",
    "(link) and a custom validation on Subcategory data.\n",
    "\n",
    "\n",
    "Steps to use VTL from pysdmx:\n",
    "1. Convert the Schema to a VTL DataStructure\n",
    "2. Validate the data using VTL\n",
    "3. Analyse the results\n",
    "\n",
    "---------(Explanation on VTL validations usefulness,\n",
    "validating more than one component. Quick overview on the code\n",
    "using VTL Playground)---------"
   ],
   "id": "946c133de69a530"
  },
  {
   "metadata": {},
   "cell_type": "markdown",
   "source": "## Convert the Schema to a VTL DataStructure",
   "id": "c338d2e18812b045"
  },
  {
   "metadata": {},
   "cell_type": "markdown",
   "source": [
    "This code converts the pysdmx.model Schema and DataStructureDefinition objects into a VTL datastructure,\n",
    "using MeaningfulData internal format, usable only with vtlengine.\n",
    "On pysdmx we will include this method\n",
    "but it will generate the VTL 2.1 Standard datastructure.\n",
    "Both options will be usable by the vtlengine library."
   ],
   "id": "163d8b1bb245a5c0"
  },
  {
   "metadata": {
    "ExecuteTime": {
     "end_time": "2025-01-26T14:56:30.915034Z",
     "start_time": "2025-01-26T14:56:30.915034Z"
    }
   },
   "cell_type": "code",
   "source": [
    "from utils import to_vtl_json\n",
    "\n",
    "vtl_datastructure = to_vtl_json(schema)"
   ],
   "id": "47d0aa10345373df",
   "outputs": [],
   "execution_count": null
  },
  {
   "metadata": {},
   "cell_type": "markdown",
   "source": "## Validate the data using VTL (sample 10000)",
   "id": "27033a888adf030"
  },
  {
   "metadata": {},
   "cell_type": "markdown",
   "source": [
    "This process will execute the VTL Script validations.vtl on the generated data. \n",
    "\n",
    "For more details on the run method, [please visit]()\n",
    "\n",
    "---------(Explanation on the code, overview on the VTL run method documentation)---------"
   ],
   "id": "15e00e96a0d8eb68"
  },
  {
   "metadata": {},
   "cell_type": "markdown",
   "source": "## Running the VTL script",
   "id": "42b6c4a5fbb1cefc"
  },
  {
   "metadata": {
    "ExecuteTime": {
     "end_time": "2025-01-26T14:57:18.401366Z",
     "start_time": "2025-01-26T14:57:18.239Z"
    }
   },
   "cell_type": "code",
   "source": [
    "from utils import _load_script\n",
    "from vtlengine import run\n",
    "\n",
    "script = _load_script(\"vtl/validations.vtl\")\n",
    "data_df = pd.read_csv(\"data_files/golden_copy_changed_10000.csv\")\n",
    "datapoints = {\"LEI_DATA\": data_df}\n",
    "\n",
    "validations_result = run(script=script, data_structures=vtl_datastructure,\n",
    "                         datapoints=datapoints)\n",
    "validations_result['errors_count'].data"
   ],
   "id": "2f848e828a5a3ccb",
   "outputs": [
    {
     "data": {
      "text/plain": [
       "   errorlevel  int_var\n",
       "0           1        4"
      ],
      "text/html": [
       "<div>\n",
       "<style scoped>\n",
       "    .dataframe tbody tr th:only-of-type {\n",
       "        vertical-align: middle;\n",
       "    }\n",
       "\n",
       "    .dataframe tbody tr th {\n",
       "        vertical-align: top;\n",
       "    }\n",
       "\n",
       "    .dataframe thead th {\n",
       "        text-align: right;\n",
       "    }\n",
       "</style>\n",
       "<table border=\"1\" class=\"dataframe\">\n",
       "  <thead>\n",
       "    <tr style=\"text-align: right;\">\n",
       "      <th></th>\n",
       "      <th>errorlevel</th>\n",
       "      <th>int_var</th>\n",
       "    </tr>\n",
       "  </thead>\n",
       "  <tbody>\n",
       "    <tr>\n",
       "      <th>0</th>\n",
       "      <td>1</td>\n",
       "      <td>4</td>\n",
       "    </tr>\n",
       "  </tbody>\n",
       "</table>\n",
       "</div>"
      ]
     },
     "execution_count": 22,
     "metadata": {},
     "output_type": "execute_result"
    }
   ],
   "execution_count": 22
  },
  {
   "metadata": {},
   "cell_type": "markdown",
   "source": "### Getting the total number of errors (sample 10000)",
   "id": "711d3b08dba1ffe7"
  },
  {
   "metadata": {
    "ExecuteTime": {
     "end_time": "2025-01-26T14:53:00.606265Z",
     "start_time": "2025-01-26T14:53:00.581028Z"
    }
   },
   "cell_type": "code",
   "source": "validations_result['errors_count'].data",
   "id": "8637c1a26593e8d0",
   "outputs": [
    {
     "data": {
      "text/plain": [
       "   errorlevel  int_var\n",
       "0           1      NaN"
      ],
      "text/html": [
       "<div>\n",
       "<style scoped>\n",
       "    .dataframe tbody tr th:only-of-type {\n",
       "        vertical-align: middle;\n",
       "    }\n",
       "\n",
       "    .dataframe tbody tr th {\n",
       "        vertical-align: top;\n",
       "    }\n",
       "\n",
       "    .dataframe thead th {\n",
       "        text-align: right;\n",
       "    }\n",
       "</style>\n",
       "<table border=\"1\" class=\"dataframe\">\n",
       "  <thead>\n",
       "    <tr style=\"text-align: right;\">\n",
       "      <th></th>\n",
       "      <th>errorlevel</th>\n",
       "      <th>int_var</th>\n",
       "    </tr>\n",
       "  </thead>\n",
       "  <tbody>\n",
       "    <tr>\n",
       "      <th>0</th>\n",
       "      <td>1</td>\n",
       "      <td>NaN</td>\n",
       "    </tr>\n",
       "  </tbody>\n",
       "</table>\n",
       "</div>"
      ]
     },
     "execution_count": 11,
     "metadata": {},
     "output_type": "execute_result"
    }
   ],
   "execution_count": 11
  },
  {
   "metadata": {},
   "cell_type": "markdown",
   "source": "### Analysing data on Subcategory errors (sample 10000)",
   "id": "63e6c09dae75a208"
  },
  {
   "metadata": {
    "ExecuteTime": {
     "end_time": "2025-01-26T14:53:00.613430Z",
     "start_time": "2025-01-26T14:53:00.606265Z"
    }
   },
   "cell_type": "code",
   "source": [
    "cols_to_analyse = ['CATEGORY', 'SUBCATEGORY', 'errorcode', 'errorlevel']\n",
    "validations_result['validation.subcategories_errors'].data[cols_to_analyse]"
   ],
   "id": "c313bba6c3c7e2fa",
   "outputs": [
    {
     "data": {
      "text/plain": [
       "                     CATEGORY SUBCATEGORY errorcode  errorlevel\n",
       "0  RESIDENT_GOVERNMENT_ENTITY        None        C1           1\n",
       "1  RESIDENT_GOVERNMENT_ENTITY        None        C1           1\n",
       "2  RESIDENT_GOVERNMENT_ENTITY        None        C1           1\n",
       "3  RESIDENT_GOVERNMENT_ENTITY        None        C1           1"
      ],
      "text/html": [
       "<div>\n",
       "<style scoped>\n",
       "    .dataframe tbody tr th:only-of-type {\n",
       "        vertical-align: middle;\n",
       "    }\n",
       "\n",
       "    .dataframe tbody tr th {\n",
       "        vertical-align: top;\n",
       "    }\n",
       "\n",
       "    .dataframe thead th {\n",
       "        text-align: right;\n",
       "    }\n",
       "</style>\n",
       "<table border=\"1\" class=\"dataframe\">\n",
       "  <thead>\n",
       "    <tr style=\"text-align: right;\">\n",
       "      <th></th>\n",
       "      <th>CATEGORY</th>\n",
       "      <th>SUBCATEGORY</th>\n",
       "      <th>errorcode</th>\n",
       "      <th>errorlevel</th>\n",
       "    </tr>\n",
       "  </thead>\n",
       "  <tbody>\n",
       "    <tr>\n",
       "      <th>0</th>\n",
       "      <td>RESIDENT_GOVERNMENT_ENTITY</td>\n",
       "      <td>None</td>\n",
       "      <td>C1</td>\n",
       "      <td>1</td>\n",
       "    </tr>\n",
       "    <tr>\n",
       "      <th>1</th>\n",
       "      <td>RESIDENT_GOVERNMENT_ENTITY</td>\n",
       "      <td>None</td>\n",
       "      <td>C1</td>\n",
       "      <td>1</td>\n",
       "    </tr>\n",
       "    <tr>\n",
       "      <th>2</th>\n",
       "      <td>RESIDENT_GOVERNMENT_ENTITY</td>\n",
       "      <td>None</td>\n",
       "      <td>C1</td>\n",
       "      <td>1</td>\n",
       "    </tr>\n",
       "    <tr>\n",
       "      <th>3</th>\n",
       "      <td>RESIDENT_GOVERNMENT_ENTITY</td>\n",
       "      <td>None</td>\n",
       "      <td>C1</td>\n",
       "      <td>1</td>\n",
       "    </tr>\n",
       "  </tbody>\n",
       "</table>\n",
       "</div>"
      ]
     },
     "execution_count": 12,
     "metadata": {},
     "output_type": "execute_result"
    }
   ],
   "execution_count": 12
  },
  {
   "metadata": {},
   "cell_type": "markdown",
   "source": "---------(Explanation on Subcategory errors)---------",
   "id": "92941fb6751112c7"
  },
  {
   "metadata": {},
   "cell_type": "markdown",
   "source": "## Using VTL to perform calculations",
   "id": "8ea685c47091461f"
  },
  {
   "metadata": {},
   "cell_type": "markdown",
   "source": "--- Explanation on VTL scripts for calculations, overview on the code ---",
   "id": "e771f668bd6e5674"
  },
  {
   "metadata": {},
   "cell_type": "markdown",
   "source": "## Running the VTL script",
   "id": "4929e63554f557cb"
  },
  {
   "metadata": {
    "ExecuteTime": {
     "end_time": "2025-01-26T14:58:22.537284Z",
     "start_time": "2025-01-26T14:58:22.449691Z"
    }
   },
   "cell_type": "code",
   "source": [
    "script = _load_script(\"vtl/calculations.vtl\")\n",
    "data_df = pd.read_csv(\"data_files/golden_copy_changed_10000.csv\")\n",
    "datapoints = {\"LEI_DATA\": data_df}\n",
    "\n",
    "calculations_result = run(script=script, data_structures=vtl_datastructure,\n",
    "                         datapoints=datapoints)"
   ],
   "id": "146e83a27074f54",
   "outputs": [],
   "execution_count": 23
  },
  {
   "metadata": {
    "ExecuteTime": {
     "end_time": "2025-01-26T14:53:00.735068Z",
     "start_time": "2025-01-26T14:53:00.727084Z"
    }
   },
   "cell_type": "code",
   "source": "calculations_result['lei_statistics'].data",
   "id": "daeb65e121b627a9",
   "outputs": [
    {
     "data": {
      "text/plain": [
       "    COUNTRY                       MEASURE  OBS_VALUE\n",
       "0        US  NUMBER_INCORPORATED_ENTITIES        594\n",
       "1        CZ  NUMBER_INCORPORATED_ENTITIES         53\n",
       "2        CA  NUMBER_INCORPORATED_ENTITIES         16\n",
       "3        KY  NUMBER_INCORPORATED_ENTITIES         88\n",
       "4        IE  NUMBER_INCORPORATED_ENTITIES         36\n",
       "..      ...                           ...        ...\n",
       "148      NO       NUMBER_ENTITIES_DIFF_HQ          1\n",
       "149      CA       NUMBER_ENTITIES_DIFF_HQ          1\n",
       "150      BE       NUMBER_ENTITIES_DIFF_HQ          1\n",
       "151      MH       NUMBER_ENTITIES_DIFF_HQ          1\n",
       "152      MT       NUMBER_ENTITIES_DIFF_HQ          1\n",
       "\n",
       "[153 rows x 3 columns]"
      ],
      "text/html": [
       "<div>\n",
       "<style scoped>\n",
       "    .dataframe tbody tr th:only-of-type {\n",
       "        vertical-align: middle;\n",
       "    }\n",
       "\n",
       "    .dataframe tbody tr th {\n",
       "        vertical-align: top;\n",
       "    }\n",
       "\n",
       "    .dataframe thead th {\n",
       "        text-align: right;\n",
       "    }\n",
       "</style>\n",
       "<table border=\"1\" class=\"dataframe\">\n",
       "  <thead>\n",
       "    <tr style=\"text-align: right;\">\n",
       "      <th></th>\n",
       "      <th>COUNTRY</th>\n",
       "      <th>MEASURE</th>\n",
       "      <th>OBS_VALUE</th>\n",
       "    </tr>\n",
       "  </thead>\n",
       "  <tbody>\n",
       "    <tr>\n",
       "      <th>0</th>\n",
       "      <td>US</td>\n",
       "      <td>NUMBER_INCORPORATED_ENTITIES</td>\n",
       "      <td>594</td>\n",
       "    </tr>\n",
       "    <tr>\n",
       "      <th>1</th>\n",
       "      <td>CZ</td>\n",
       "      <td>NUMBER_INCORPORATED_ENTITIES</td>\n",
       "      <td>53</td>\n",
       "    </tr>\n",
       "    <tr>\n",
       "      <th>2</th>\n",
       "      <td>CA</td>\n",
       "      <td>NUMBER_INCORPORATED_ENTITIES</td>\n",
       "      <td>16</td>\n",
       "    </tr>\n",
       "    <tr>\n",
       "      <th>3</th>\n",
       "      <td>KY</td>\n",
       "      <td>NUMBER_INCORPORATED_ENTITIES</td>\n",
       "      <td>88</td>\n",
       "    </tr>\n",
       "    <tr>\n",
       "      <th>4</th>\n",
       "      <td>IE</td>\n",
       "      <td>NUMBER_INCORPORATED_ENTITIES</td>\n",
       "      <td>36</td>\n",
       "    </tr>\n",
       "    <tr>\n",
       "      <th>...</th>\n",
       "      <td>...</td>\n",
       "      <td>...</td>\n",
       "      <td>...</td>\n",
       "    </tr>\n",
       "    <tr>\n",
       "      <th>148</th>\n",
       "      <td>NO</td>\n",
       "      <td>NUMBER_ENTITIES_DIFF_HQ</td>\n",
       "      <td>1</td>\n",
       "    </tr>\n",
       "    <tr>\n",
       "      <th>149</th>\n",
       "      <td>CA</td>\n",
       "      <td>NUMBER_ENTITIES_DIFF_HQ</td>\n",
       "      <td>1</td>\n",
       "    </tr>\n",
       "    <tr>\n",
       "      <th>150</th>\n",
       "      <td>BE</td>\n",
       "      <td>NUMBER_ENTITIES_DIFF_HQ</td>\n",
       "      <td>1</td>\n",
       "    </tr>\n",
       "    <tr>\n",
       "      <th>151</th>\n",
       "      <td>MH</td>\n",
       "      <td>NUMBER_ENTITIES_DIFF_HQ</td>\n",
       "      <td>1</td>\n",
       "    </tr>\n",
       "    <tr>\n",
       "      <th>152</th>\n",
       "      <td>MT</td>\n",
       "      <td>NUMBER_ENTITIES_DIFF_HQ</td>\n",
       "      <td>1</td>\n",
       "    </tr>\n",
       "  </tbody>\n",
       "</table>\n",
       "<p>153 rows × 3 columns</p>\n",
       "</div>"
      ]
     },
     "execution_count": 14,
     "metadata": {},
     "output_type": "execute_result"
    }
   ],
   "execution_count": 14
  },
  {
   "metadata": {},
   "cell_type": "markdown",
   "source": "---------(Explanation on the calculations)---------",
   "id": "ed8d1f745c19c960"
  },
  {
   "metadata": {},
   "cell_type": "markdown",
   "source": "# Generate SDMX file with the aggregated data",
   "id": "7e3c3a8534ebc635"
  },
  {
   "metadata": {},
   "cell_type": "markdown",
   "source": [
    "Generate a PandasDataset from vtlengine output\n",
    "and use the SDMX-ML 2.1 Data write method from pysdmx."
   ],
   "id": "8dbe210864a47037"
  },
  {
   "metadata": {},
   "cell_type": "markdown",
   "source": "## Setting up the code",
   "id": "38c9fd4c3f334ab"
  },
  {
   "metadata": {
    "ExecuteTime": {
     "end_time": "2025-01-26T14:53:00.743975Z",
     "start_time": "2025-01-26T14:53:00.735575Z"
    }
   },
   "cell_type": "code",
   "source": [
    "from pysdmx.io.pd import PandasDataset\n",
    "\n",
    "data = calculations_result['lei_statistics'].data\n",
    "structure = \"DataStructure=MD:LEI_AGGREGATE_STATISTICS(1.0)\"\n",
    "pd_dataset = PandasDataset(structure=structure, data=data)"
   ],
   "id": "bcbb4e50a48752cf",
   "outputs": [],
   "execution_count": 15
  },
  {
   "metadata": {},
   "cell_type": "markdown",
   "source": "### Write the SDMX-ML 2.1 file",
   "id": "d54b2cef79167cf5"
  },
  {
   "metadata": {
    "ExecuteTime": {
     "end_time": "2025-01-26T14:53:00.811994Z",
     "start_time": "2025-01-26T14:53:00.743975Z"
    }
   },
   "cell_type": "code",
   "source": [
    "from pysdmx.io.xml.sdmx21.writer.structure_specific import write\n",
    "\n",
    "output = write([pd_dataset], prettyprint=False)\n",
    "\n",
    "output"
   ],
   "id": "7b32b0deef8fe9f9",
   "outputs": [
    {
     "data": {
      "text/plain": [
       "'<?xml version=\"1.0\" encoding=\"UTF-8\"?><mes:StructureSpecificData xmlns:xsi=\"http://www.w3.org/2001/XMLSchema-instance\" xmlns:mes=\"http://www.sdmx.org/resources/sdmxml/schemas/v2_1/message\" xmlns:ss=\"http://www.sdmx.org/resources/sdmxml/schemas/v2_1/data/structurespecific\" xmlns:com=\"http://www.sdmx.org/resources/sdmxml/schemas/v2_1/common\" xmlns:ns1=\"urn:sdmx:org.sdmx.infomodel.datastructure.DataStructure=MD:LEI_AGGREGATE_STATISTICS(1.0):ObsLevelDim:AllDimensions\" xsi:schemaLocation=\"http://www.sdmx.org/resources/sdmxml/schemas/v2_1/message https://registry.sdmx.org/schemas/v2_1/SDMXMessage.xsd\"><mes:Header><mes:ID>ae1f1049-9063-4338-a1fd-200a7b27bbb0</mes:ID><mes:Test>true</mes:Test><mes:Prepared>2025-01-26T14:25:48</mes:Prepared><mes:Sender id=\"ZZZ\"/><mes:Structure structureID=\"LEI_AGGREGATE_STATISTICS\" namespace=\"urn:sdmx:org.sdmx.infomodel.datastructure.DataStructure==MD:LEI_AGGREGATE_STATISTICS(1.0)\" dimensionAtObservation=\"AllDimensions\"><com:Structure><Ref agencyID=\"MD\" id=\"LEI_AGGREGATE_STATISTICS\" version=\"1.0\" class=\"DataStructure\"/></com:Structure></mes:Structure></mes:Header><mes:DataSet ss:structureRef=\"LEI_AGGREGATE_STATISTICS\" xsi:type=\"ns1:DataSetType\" ss:dataScope=\"DataStructure\" action=\"Replace\"><Obs COUNTRY=\"US\" MEASURE=\"NUMBER_INCORPORATED_ENTITIES\" OBS_VALUE=\"594\" /><Obs COUNTRY=\"CZ\" MEASURE=\"NUMBER_INCORPORATED_ENTITIES\" OBS_VALUE=\"53\" /><Obs COUNTRY=\"CA\" MEASURE=\"NUMBER_INCORPORATED_ENTITIES\" OBS_VALUE=\"16\" /><Obs COUNTRY=\"KY\" MEASURE=\"NUMBER_INCORPORATED_ENTITIES\" OBS_VALUE=\"88\" /><Obs COUNTRY=\"IE\" MEASURE=\"NUMBER_INCORPORATED_ENTITIES\" OBS_VALUE=\"36\" /><Obs COUNTRY=\"NZ\" MEASURE=\"NUMBER_INCORPORATED_ENTITIES\" OBS_VALUE=\"2\" /><Obs COUNTRY=\"NG\" MEASURE=\"NUMBER_INCORPORATED_ENTITIES\" OBS_VALUE=\"509\" /><Obs COUNTRY=\"BM\" MEASURE=\"NUMBER_INCORPORATED_ENTITIES\" OBS_VALUE=\"13\" /><Obs COUNTRY=\"SE\" MEASURE=\"NUMBER_INCORPORATED_ENTITIES\" OBS_VALUE=\"504\" /><Obs COUNTRY=\"CH\" MEASURE=\"NUMBER_INCORPORATED_ENTITIES\" OBS_VALUE=\"11\" /><Obs COUNTRY=\"IN\" MEASURE=\"NUMBER_INCORPORATED_ENTITIES\" OBS_VALUE=\"2\" /><Obs COUNTRY=\"AU\" MEASURE=\"NUMBER_INCORPORATED_ENTITIES\" OBS_VALUE=\"20\" /><Obs COUNTRY=\"GB\" MEASURE=\"NUMBER_INCORPORATED_ENTITIES\" OBS_VALUE=\"400\" /><Obs COUNTRY=\"MX\" MEASURE=\"NUMBER_INCORPORATED_ENTITIES\" OBS_VALUE=\"3\" /><Obs COUNTRY=\"CL\" MEASURE=\"NUMBER_INCORPORATED_ENTITIES\" OBS_VALUE=\"1\" /><Obs COUNTRY=\"LU\" MEASURE=\"NUMBER_INCORPORATED_ENTITIES\" OBS_VALUE=\"47\" /><Obs COUNTRY=\"NL\" MEASURE=\"NUMBER_INCORPORATED_ENTITIES\" OBS_VALUE=\"11\" /><Obs COUNTRY=\"DE\" MEASURE=\"NUMBER_INCORPORATED_ENTITIES\" OBS_VALUE=\"278\" /><Obs COUNTRY=\"UG\" MEASURE=\"NUMBER_INCORPORATED_ENTITIES\" OBS_VALUE=\"1\" /><Obs COUNTRY=\"TH\" MEASURE=\"NUMBER_INCORPORATED_ENTITIES\" OBS_VALUE=\"1\" /><Obs COUNTRY=\"CN\" MEASURE=\"NUMBER_INCORPORATED_ENTITIES\" OBS_VALUE=\"2\" /><Obs COUNTRY=\"JP\" MEASURE=\"NUMBER_INCORPORATED_ENTITIES\" OBS_VALUE=\"7\" /><Obs COUNTRY=\"SK\" MEASURE=\"NUMBER_INCORPORATED_ENTITIES\" OBS_VALUE=\"3872\" /><Obs COUNTRY=\"BG\" MEASURE=\"NUMBER_INCORPORATED_ENTITIES\" OBS_VALUE=\"36\" /><Obs COUNTRY=\"HU\" MEASURE=\"NUMBER_INCORPORATED_ENTITIES\" OBS_VALUE=\"17\" /><Obs COUNTRY=\"RO\" MEASURE=\"NUMBER_INCORPORATED_ENTITIES\" OBS_VALUE=\"15\" /><Obs COUNTRY=\"BE\" MEASURE=\"NUMBER_INCORPORATED_ENTITIES\" OBS_VALUE=\"3\" /><Obs COUNTRY=\"RU\" MEASURE=\"NUMBER_INCORPORATED_ENTITIES\" OBS_VALUE=\"1\" /><Obs COUNTRY=\"LT\" MEASURE=\"NUMBER_INCORPORATED_ENTITIES\" OBS_VALUE=\"24\" /><Obs COUNTRY=\"HR\" MEASURE=\"NUMBER_INCORPORATED_ENTITIES\" OBS_VALUE=\"2\" /><Obs COUNTRY=\"EE\" MEASURE=\"NUMBER_INCORPORATED_ENTITIES\" OBS_VALUE=\"4\" /><Obs COUNTRY=\"SI\" MEASURE=\"NUMBER_INCORPORATED_ENTITIES\" OBS_VALUE=\"1\" /><Obs COUNTRY=\"LV\" MEASURE=\"NUMBER_INCORPORATED_ENTITIES\" OBS_VALUE=\"7\" /><Obs COUNTRY=\"TR\" MEASURE=\"NUMBER_INCORPORATED_ENTITIES\" OBS_VALUE=\"1\" /><Obs COUNTRY=\"FI\" MEASURE=\"NUMBER_INCORPORATED_ENTITIES\" OBS_VALUE=\"3\" /><Obs COUNTRY=\"SG\" MEASURE=\"NUMBER_INCORPORATED_ENTITIES\" OBS_VALUE=\"3\" /><Obs COUNTRY=\"MU\" MEASURE=\"NUMBER_INCORPORATED_ENTITIES\" OBS_VALUE=\"11\" /><Obs COUNTRY=\"AT\" MEASURE=\"NUMBER_INCORPORATED_ENTITIES\" OBS_VALUE=\"2\" /><Obs COUNTRY=\"IT\" MEASURE=\"NUMBER_INCORPORATED_ENTITIES\" OBS_VALUE=\"3\" /><Obs COUNTRY=\"DK\" MEASURE=\"NUMBER_INCORPORATED_ENTITIES\" OBS_VALUE=\"1789\" /><Obs COUNTRY=\"BS\" MEASURE=\"NUMBER_INCORPORATED_ENTITIES\" OBS_VALUE=\"6\" /><Obs COUNTRY=\"VG\" MEASURE=\"NUMBER_INCORPORATED_ENTITIES\" OBS_VALUE=\"14\" /><Obs COUNTRY=\"GG\" MEASURE=\"NUMBER_INCORPORATED_ENTITIES\" OBS_VALUE=\"7\" /><Obs COUNTRY=\"NO\" MEASURE=\"NUMBER_INCORPORATED_ENTITIES\" OBS_VALUE=\"1076\" /><Obs COUNTRY=\"LI\" MEASURE=\"NUMBER_INCORPORATED_ENTITIES\" OBS_VALUE=\"1\" /><Obs COUNTRY=\"FR\" MEASURE=\"NUMBER_INCORPORATED_ENTITIES\" OBS_VALUE=\"6\" /><Obs COUNTRY=\"IL\" MEASURE=\"NUMBER_INCORPORATED_ENTITIES\" OBS_VALUE=\"1\" /><Obs COUNTRY=\"ID\" MEASURE=\"NUMBER_INCORPORATED_ENTITIES\" OBS_VALUE=\"1\" /><Obs COUNTRY=\"PL\" MEASURE=\"NUMBER_INCORPORATED_ENTITIES\" OBS_VALUE=\"1\" /><Obs COUNTRY=\"ZA\" MEASURE=\"NUMBER_INCORPORATED_ENTITIES\" OBS_VALUE=\"2\" /><Obs COUNTRY=\"HK\" MEASURE=\"NUMBER_INCORPORATED_ENTITIES\" OBS_VALUE=\"3\" /><Obs COUNTRY=\"ES\" MEASURE=\"NUMBER_INCORPORATED_ENTITIES\" OBS_VALUE=\"4\" /><Obs COUNTRY=\"BR\" MEASURE=\"NUMBER_INCORPORATED_ENTITIES\" OBS_VALUE=\"2\" /><Obs COUNTRY=\"MH\" MEASURE=\"NUMBER_INCORPORATED_ENTITIES\" OBS_VALUE=\"2\" /><Obs COUNTRY=\"PT\" MEASURE=\"NUMBER_INCORPORATED_ENTITIES\" OBS_VALUE=\"3\" /><Obs COUNTRY=\"GR\" MEASURE=\"NUMBER_INCORPORATED_ENTITIES\" OBS_VALUE=\"6\" /><Obs COUNTRY=\"CY\" MEASURE=\"NUMBER_INCORPORATED_ENTITIES\" OBS_VALUE=\"5\" /><Obs COUNTRY=\"JE\" MEASURE=\"NUMBER_INCORPORATED_ENTITIES\" OBS_VALUE=\"8\" /><Obs COUNTRY=\"IM\" MEASURE=\"NUMBER_INCORPORATED_ENTITIES\" OBS_VALUE=\"3\" /><Obs COUNTRY=\"PA\" MEASURE=\"NUMBER_INCORPORATED_ENTITIES\" OBS_VALUE=\"1\" /><Obs COUNTRY=\"MY\" MEASURE=\"NUMBER_INCORPORATED_ENTITIES\" OBS_VALUE=\"1\" /><Obs COUNTRY=\"QA\" MEASURE=\"NUMBER_INCORPORATED_ENTITIES\" OBS_VALUE=\"1\" /><Obs COUNTRY=\"MT\" MEASURE=\"NUMBER_INCORPORATED_ENTITIES\" OBS_VALUE=\"2\" /><Obs COUNTRY=\"CW\" MEASURE=\"NUMBER_INCORPORATED_ENTITIES\" OBS_VALUE=\"1\" /><Obs COUNTRY=\"AE\" MEASURE=\"NUMBER_INCORPORATED_ENTITIES\" OBS_VALUE=\"2\" /><Obs COUNTRY=\"GI\" MEASURE=\"NUMBER_INCORPORATED_ENTITIES\" OBS_VALUE=\"1\" /><Obs COUNTRY=\"US\" MEASURE=\"NUMBER_HQ_ENTITIES\" OBS_VALUE=\"666\" /><Obs COUNTRY=\"CZ\" MEASURE=\"NUMBER_HQ_ENTITIES\" OBS_VALUE=\"58\" /><Obs COUNTRY=\"CA\" MEASURE=\"NUMBER_HQ_ENTITIES\" OBS_VALUE=\"15\" /><Obs COUNTRY=\"IE\" MEASURE=\"NUMBER_HQ_ENTITIES\" OBS_VALUE=\"29\" /><Obs COUNTRY=\"NZ\" MEASURE=\"NUMBER_HQ_ENTITIES\" OBS_VALUE=\"2\" /><Obs COUNTRY=\"NG\" MEASURE=\"NUMBER_HQ_ENTITIES\" OBS_VALUE=\"509\" /><Obs COUNTRY=\"BM\" MEASURE=\"NUMBER_HQ_ENTITIES\" OBS_VALUE=\"10\" /><Obs COUNTRY=\"SE\" MEASURE=\"NUMBER_HQ_ENTITIES\" OBS_VALUE=\"504\" /><Obs COUNTRY=\"IN\" MEASURE=\"NUMBER_HQ_ENTITIES\" OBS_VALUE=\"2\" /><Obs COUNTRY=\"AU\" MEASURE=\"NUMBER_HQ_ENTITIES\" OBS_VALUE=\"19\" /><Obs COUNTRY=\"GB\" MEASURE=\"NUMBER_HQ_ENTITIES\" OBS_VALUE=\"406\" /><Obs COUNTRY=\"MX\" MEASURE=\"NUMBER_HQ_ENTITIES\" OBS_VALUE=\"3\" /><Obs COUNTRY=\"CL\" MEASURE=\"NUMBER_HQ_ENTITIES\" OBS_VALUE=\"1\" /><Obs COUNTRY=\"NL\" MEASURE=\"NUMBER_HQ_ENTITIES\" OBS_VALUE=\"15\" /><Obs COUNTRY=\"KY\" MEASURE=\"NUMBER_HQ_ENTITIES\" OBS_VALUE=\"28\" /><Obs COUNTRY=\"DE\" MEASURE=\"NUMBER_HQ_ENTITIES\" OBS_VALUE=\"278\" /><Obs COUNTRY=\"UG\" MEASURE=\"NUMBER_HQ_ENTITIES\" OBS_VALUE=\"1\" /><Obs COUNTRY=\"TH\" MEASURE=\"NUMBER_HQ_ENTITIES\" OBS_VALUE=\"1\" /><Obs COUNTRY=\"CN\" MEASURE=\"NUMBER_HQ_ENTITIES\" OBS_VALUE=\"2\" /><Obs COUNTRY=\"JP\" MEASURE=\"NUMBER_HQ_ENTITIES\" OBS_VALUE=\"8\" /><Obs COUNTRY=\"SK\" MEASURE=\"NUMBER_HQ_ENTITIES\" OBS_VALUE=\"3864\" /><Obs COUNTRY=\"BG\" MEASURE=\"NUMBER_HQ_ENTITIES\" OBS_VALUE=\"36\" /><Obs COUNTRY=\"HU\" MEASURE=\"NUMBER_HQ_ENTITIES\" OBS_VALUE=\"18\" /><Obs COUNTRY=\"RO\" MEASURE=\"NUMBER_HQ_ENTITIES\" OBS_VALUE=\"15\" /><Obs COUNTRY=\"BE\" MEASURE=\"NUMBER_HQ_ENTITIES\" OBS_VALUE=\"2\" /><Obs COUNTRY=\"RU\" MEASURE=\"NUMBER_HQ_ENTITIES\" OBS_VALUE=\"1\" /><Obs COUNTRY=\"LT\" MEASURE=\"NUMBER_HQ_ENTITIES\" OBS_VALUE=\"24\" /><Obs COUNTRY=\"HR\" MEASURE=\"NUMBER_HQ_ENTITIES\" OBS_VALUE=\"2\" /><Obs COUNTRY=\"EE\" MEASURE=\"NUMBER_HQ_ENTITIES\" OBS_VALUE=\"4\" /><Obs COUNTRY=\"SI\" MEASURE=\"NUMBER_HQ_ENTITIES\" OBS_VALUE=\"1\" /><Obs COUNTRY=\"LU\" MEASURE=\"NUMBER_HQ_ENTITIES\" OBS_VALUE=\"38\" /><Obs COUNTRY=\"LV\" MEASURE=\"NUMBER_HQ_ENTITIES\" OBS_VALUE=\"7\" /><Obs COUNTRY=\"TR\" MEASURE=\"NUMBER_HQ_ENTITIES\" OBS_VALUE=\"1\" /><Obs COUNTRY=\"FI\" MEASURE=\"NUMBER_HQ_ENTITIES\" OBS_VALUE=\"3\" /><Obs COUNTRY=\"FR\" MEASURE=\"NUMBER_HQ_ENTITIES\" OBS_VALUE=\"8\" /><Obs COUNTRY=\"AT\" MEASURE=\"NUMBER_HQ_ENTITIES\" OBS_VALUE=\"3\" /><Obs COUNTRY=\"SG\" MEASURE=\"NUMBER_HQ_ENTITIES\" OBS_VALUE=\"2\" /><Obs COUNTRY=\"HK\" MEASURE=\"NUMBER_HQ_ENTITIES\" OBS_VALUE=\"6\" /><Obs COUNTRY=\"IT\" MEASURE=\"NUMBER_HQ_ENTITIES\" OBS_VALUE=\"4\" /><Obs COUNTRY=\"DK\" MEASURE=\"NUMBER_HQ_ENTITIES\" OBS_VALUE=\"1790\" /><Obs COUNTRY=\"GG\" MEASURE=\"NUMBER_HQ_ENTITIES\" OBS_VALUE=\"7\" /><Obs COUNTRY=\"NO\" MEASURE=\"NUMBER_HQ_ENTITIES\" OBS_VALUE=\"1075\" /><Obs COUNTRY=\"CH\" MEASURE=\"NUMBER_HQ_ENTITIES\" OBS_VALUE=\"12\" /><Obs COUNTRY=\"LI\" MEASURE=\"NUMBER_HQ_ENTITIES\" OBS_VALUE=\"1\" /><Obs COUNTRY=\"IL\" MEASURE=\"NUMBER_HQ_ENTITIES\" OBS_VALUE=\"1\" /><Obs COUNTRY=\"MU\" MEASURE=\"NUMBER_HQ_ENTITIES\" OBS_VALUE=\"10\" /><Obs COUNTRY=\"VG\" MEASURE=\"NUMBER_HQ_ENTITIES\" OBS_VALUE=\"9\" /><Obs COUNTRY=\"BS\" MEASURE=\"NUMBER_HQ_ENTITIES\" OBS_VALUE=\"4\" /><Obs COUNTRY=\"ID\" MEASURE=\"NUMBER_HQ_ENTITIES\" OBS_VALUE=\"1\" /><Obs COUNTRY=\"PL\" MEASURE=\"NUMBER_HQ_ENTITIES\" OBS_VALUE=\"1\" /><Obs COUNTRY=\"ZA\" MEASURE=\"NUMBER_HQ_ENTITIES\" OBS_VALUE=\"2\" /><Obs COUNTRY=\"ES\" MEASURE=\"NUMBER_HQ_ENTITIES\" OBS_VALUE=\"4\" /><Obs COUNTRY=\"MC\" MEASURE=\"NUMBER_HQ_ENTITIES\" OBS_VALUE=\"1\" /><Obs COUNTRY=\"BR\" MEASURE=\"NUMBER_HQ_ENTITIES\" OBS_VALUE=\"2\" /><Obs COUNTRY=\"PT\" MEASURE=\"NUMBER_HQ_ENTITIES\" OBS_VALUE=\"3\" /><Obs COUNTRY=\"GR\" MEASURE=\"NUMBER_HQ_ENTITIES\" OBS_VALUE=\"6\" /><Obs COUNTRY=\"CY\" MEASURE=\"NUMBER_HQ_ENTITIES\" OBS_VALUE=\"6\" /><Obs COUNTRY=\"JE\" MEASURE=\"NUMBER_HQ_ENTITIES\" OBS_VALUE=\"10\" /><Obs COUNTRY=\"IM\" MEASURE=\"NUMBER_HQ_ENTITIES\" OBS_VALUE=\"3\" /><Obs COUNTRY=\"PA\" MEASURE=\"NUMBER_HQ_ENTITIES\" OBS_VALUE=\"1\" /><Obs COUNTRY=\"MY\" MEASURE=\"NUMBER_HQ_ENTITIES\" OBS_VALUE=\"1\" /><Obs COUNTRY=\"QA\" MEASURE=\"NUMBER_HQ_ENTITIES\" OBS_VALUE=\"1\" /><Obs COUNTRY=\"MT\" MEASURE=\"NUMBER_HQ_ENTITIES\" OBS_VALUE=\"1\" /><Obs COUNTRY=\"CW\" MEASURE=\"NUMBER_HQ_ENTITIES\" OBS_VALUE=\"1\" /><Obs COUNTRY=\"AE\" MEASURE=\"NUMBER_HQ_ENTITIES\" OBS_VALUE=\"2\" /><Obs COUNTRY=\"GI\" MEASURE=\"NUMBER_HQ_ENTITIES\" OBS_VALUE=\"1\" /><Obs COUNTRY=\"MH\" MEASURE=\"NUMBER_HQ_ENTITIES\" OBS_VALUE=\"1\" /><Obs COUNTRY=\"KY\" MEASURE=\"NUMBER_ENTITIES_DIFF_HQ\" OBS_VALUE=\"60\" /><Obs COUNTRY=\"CH\" MEASURE=\"NUMBER_ENTITIES_DIFF_HQ\" OBS_VALUE=\"1\" /><Obs COUNTRY=\"AU\" MEASURE=\"NUMBER_ENTITIES_DIFF_HQ\" OBS_VALUE=\"1\" /><Obs COUNTRY=\"IE\" MEASURE=\"NUMBER_ENTITIES_DIFF_HQ\" OBS_VALUE=\"8\" /><Obs COUNTRY=\"LU\" MEASURE=\"NUMBER_ENTITIES_DIFF_HQ\" OBS_VALUE=\"11\" /><Obs COUNTRY=\"GB\" MEASURE=\"NUMBER_ENTITIES_DIFF_HQ\" OBS_VALUE=\"1\" /><Obs COUNTRY=\"SK\" MEASURE=\"NUMBER_ENTITIES_DIFF_HQ\" OBS_VALUE=\"10\" /><Obs COUNTRY=\"CZ\" MEASURE=\"NUMBER_ENTITIES_DIFF_HQ\" OBS_VALUE=\"2\" /><Obs COUNTRY=\"NL\" MEASURE=\"NUMBER_ENTITIES_DIFF_HQ\" OBS_VALUE=\"1\" /><Obs COUNTRY=\"US\" MEASURE=\"NUMBER_ENTITIES_DIFF_HQ\" OBS_VALUE=\"3\" /><Obs COUNTRY=\"MU\" MEASURE=\"NUMBER_ENTITIES_DIFF_HQ\" OBS_VALUE=\"1\" /><Obs COUNTRY=\"BS\" MEASURE=\"NUMBER_ENTITIES_DIFF_HQ\" OBS_VALUE=\"2\" /><Obs COUNTRY=\"VG\" MEASURE=\"NUMBER_ENTITIES_DIFF_HQ\" OBS_VALUE=\"5\" /><Obs COUNTRY=\"BM\" MEASURE=\"NUMBER_ENTITIES_DIFF_HQ\" OBS_VALUE=\"4\" /><Obs COUNTRY=\"SG\" MEASURE=\"NUMBER_ENTITIES_DIFF_HQ\" OBS_VALUE=\"2\" /><Obs COUNTRY=\"NO\" MEASURE=\"NUMBER_ENTITIES_DIFF_HQ\" OBS_VALUE=\"1\" /><Obs COUNTRY=\"CA\" MEASURE=\"NUMBER_ENTITIES_DIFF_HQ\" OBS_VALUE=\"1\" /><Obs COUNTRY=\"BE\" MEASURE=\"NUMBER_ENTITIES_DIFF_HQ\" OBS_VALUE=\"1\" /><Obs COUNTRY=\"MH\" MEASURE=\"NUMBER_ENTITIES_DIFF_HQ\" OBS_VALUE=\"1\" /><Obs COUNTRY=\"MT\" MEASURE=\"NUMBER_ENTITIES_DIFF_HQ\" OBS_VALUE=\"1\" /></mes:DataSet></mes:StructureSpecificData>'"
      ]
     },
     "execution_count": 16,
     "metadata": {},
     "output_type": "execute_result"
    }
   ],
   "execution_count": 16
  },
  {
   "metadata": {},
   "cell_type": "markdown",
   "source": "# Reading back the SDMX file using read_sdmx",
   "id": "842845bca04ab014"
  },
  {
   "metadata": {},
   "cell_type": "markdown",
   "source": [
    "Using read_sdmx method, we are able to read back the data produced.\n",
    "Note that we do not make any reference to the SDMX format used\n",
    "or if it is a Data or Structure message."
   ],
   "id": "e00cefc36c566b07"
  },
  {
   "metadata": {
    "ExecuteTime": {
     "end_time": "2025-01-26T15:06:29.439055Z",
     "start_time": "2025-01-26T15:06:29.372230Z"
    }
   },
   "cell_type": "code",
   "source": [
    "from pysdmx.io import read_sdmx\n",
    "\n",
    "data_msg = read_sdmx(output)\n",
    "data_msg.data[0].data"
   ],
   "id": "9e3149a5da968de0",
   "outputs": [
    {
     "data": {
      "text/plain": [
       "    COUNTRY                       MEASURE OBS_VALUE\n",
       "0        US  NUMBER_INCORPORATED_ENTITIES       594\n",
       "1        CZ  NUMBER_INCORPORATED_ENTITIES        53\n",
       "2        CA  NUMBER_INCORPORATED_ENTITIES        16\n",
       "3        KY  NUMBER_INCORPORATED_ENTITIES        88\n",
       "4        IE  NUMBER_INCORPORATED_ENTITIES        36\n",
       "..      ...                           ...       ...\n",
       "148      NO       NUMBER_ENTITIES_DIFF_HQ         1\n",
       "149      CA       NUMBER_ENTITIES_DIFF_HQ         1\n",
       "150      BE       NUMBER_ENTITIES_DIFF_HQ         1\n",
       "151      MH       NUMBER_ENTITIES_DIFF_HQ         1\n",
       "152      MT       NUMBER_ENTITIES_DIFF_HQ         1\n",
       "\n",
       "[153 rows x 3 columns]"
      ],
      "text/html": [
       "<div>\n",
       "<style scoped>\n",
       "    .dataframe tbody tr th:only-of-type {\n",
       "        vertical-align: middle;\n",
       "    }\n",
       "\n",
       "    .dataframe tbody tr th {\n",
       "        vertical-align: top;\n",
       "    }\n",
       "\n",
       "    .dataframe thead th {\n",
       "        text-align: right;\n",
       "    }\n",
       "</style>\n",
       "<table border=\"1\" class=\"dataframe\">\n",
       "  <thead>\n",
       "    <tr style=\"text-align: right;\">\n",
       "      <th></th>\n",
       "      <th>COUNTRY</th>\n",
       "      <th>MEASURE</th>\n",
       "      <th>OBS_VALUE</th>\n",
       "    </tr>\n",
       "  </thead>\n",
       "  <tbody>\n",
       "    <tr>\n",
       "      <th>0</th>\n",
       "      <td>US</td>\n",
       "      <td>NUMBER_INCORPORATED_ENTITIES</td>\n",
       "      <td>594</td>\n",
       "    </tr>\n",
       "    <tr>\n",
       "      <th>1</th>\n",
       "      <td>CZ</td>\n",
       "      <td>NUMBER_INCORPORATED_ENTITIES</td>\n",
       "      <td>53</td>\n",
       "    </tr>\n",
       "    <tr>\n",
       "      <th>2</th>\n",
       "      <td>CA</td>\n",
       "      <td>NUMBER_INCORPORATED_ENTITIES</td>\n",
       "      <td>16</td>\n",
       "    </tr>\n",
       "    <tr>\n",
       "      <th>3</th>\n",
       "      <td>KY</td>\n",
       "      <td>NUMBER_INCORPORATED_ENTITIES</td>\n",
       "      <td>88</td>\n",
       "    </tr>\n",
       "    <tr>\n",
       "      <th>4</th>\n",
       "      <td>IE</td>\n",
       "      <td>NUMBER_INCORPORATED_ENTITIES</td>\n",
       "      <td>36</td>\n",
       "    </tr>\n",
       "    <tr>\n",
       "      <th>...</th>\n",
       "      <td>...</td>\n",
       "      <td>...</td>\n",
       "      <td>...</td>\n",
       "    </tr>\n",
       "    <tr>\n",
       "      <th>148</th>\n",
       "      <td>NO</td>\n",
       "      <td>NUMBER_ENTITIES_DIFF_HQ</td>\n",
       "      <td>1</td>\n",
       "    </tr>\n",
       "    <tr>\n",
       "      <th>149</th>\n",
       "      <td>CA</td>\n",
       "      <td>NUMBER_ENTITIES_DIFF_HQ</td>\n",
       "      <td>1</td>\n",
       "    </tr>\n",
       "    <tr>\n",
       "      <th>150</th>\n",
       "      <td>BE</td>\n",
       "      <td>NUMBER_ENTITIES_DIFF_HQ</td>\n",
       "      <td>1</td>\n",
       "    </tr>\n",
       "    <tr>\n",
       "      <th>151</th>\n",
       "      <td>MH</td>\n",
       "      <td>NUMBER_ENTITIES_DIFF_HQ</td>\n",
       "      <td>1</td>\n",
       "    </tr>\n",
       "    <tr>\n",
       "      <th>152</th>\n",
       "      <td>MT</td>\n",
       "      <td>NUMBER_ENTITIES_DIFF_HQ</td>\n",
       "      <td>1</td>\n",
       "    </tr>\n",
       "  </tbody>\n",
       "</table>\n",
       "<p>153 rows × 3 columns</p>\n",
       "</div>"
      ]
     },
     "execution_count": 30,
     "metadata": {},
     "output_type": "execute_result"
    }
   ],
   "execution_count": 30
  },
  {
   "metadata": {},
   "cell_type": "code",
   "outputs": [],
   "execution_count": null,
   "source": "",
   "id": "6356039ea9ac56e1"
  }
 ],
 "metadata": {
  "kernelspec": {
   "display_name": "Python 3",
   "language": "python",
   "name": "python3"
  },
  "language_info": {
   "codemirror_mode": {
    "name": "ipython",
    "version": 2
   },
   "file_extension": ".py",
   "mimetype": "text/x-python",
   "name": "python",
   "nbconvert_exporter": "python",
   "pygments_lexer": "ipython2",
   "version": "2.7.6"
  }
 },
 "nbformat": 4,
 "nbformat_minor": 5
}
