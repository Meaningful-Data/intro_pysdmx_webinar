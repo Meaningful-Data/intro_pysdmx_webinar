{
 "cells": [
  {
   "metadata": {},
   "cell_type": "markdown",
   "source": "# Overview of the use case",
   "id": "a32e2eb94c19ca5d"
  },
  {
   "metadata": {},
   "cell_type": "markdown",
   "source": [
    "---------(Overview on the use case,\n",
    "why is it important for data producers,\n",
    "usefulness of the library\n",
    "when reading non-SDMX data\n",
    "and convert to SDMX. Mention validations and calculations over VTL.)---------"
   ],
   "id": "11302234f134bc8a"
  },
  {
   "metadata": {},
   "cell_type": "markdown",
   "source": [
    "Talking points and agenda:\n",
    "\n",
    "- General use of pysdmx on Data Producers\n",
    "- Outside the SDMX garden, looking at LEI and GLEIF\n",
    "- Data cleaning and set up using pandas\n",
    "- Downloading and reading the ConceptScheme on SDMX-ML 2.1 using read_sdmx\n",
    "- Retrieving the Schema from FMR (FusionJSON)\n",
    "- Convert the Schema to a VTL DataStructure\n",
    "- Using VTL to validate the data\n",
    "- Using VTL to perform calculations\n",
    "- Generate SDMX-ML file with the aggregated data\n",
    "- Reading back the SDMX file using read_sdmx\n",
    "\n",
    "### List of pysdmx classes and functions used in this notebook:\n",
    "\n",
    "Functions:\n",
    "- pysdmx.io.read_sdmx\n",
    "- pysdmx.io.csv.sdmx20.writer.write\n",
    "\n",
    "Classes:\n",
    "- pysdmx.api.fmr.RegistryClient (and methods)\n",
    "- pysdmx.model.message.Message (and methods)\n",
    "- pysdmx.io.pd.PandasDataset\n",
    "- pysdmx.model.dataflow.Schema"
   ],
   "id": "65d61c815e32a66"
  },
  {
   "metadata": {},
   "cell_type": "markdown",
   "source": "# Outside the SDMX garden, looking at LEI and GLEIF",
   "id": "5ce654850edb5602"
  },
  {
   "metadata": {},
   "cell_type": "markdown",
   "source": "---------(Explanation on LEI and GLEIF, use for data producers)---------",
   "id": "2c8795d1c0a1dfe4"
  },
  {
   "metadata": {},
   "cell_type": "markdown",
   "source": "## Data cleaning and set up using pandas and pysdmx",
   "id": "f6f0ec891c33d0c2"
  },
  {
   "metadata": {},
   "cell_type": "markdown",
   "source": [
    "For this use case,\n",
    "we will use the Golden Copy file from GLEIF (link)\n",
    "and filter on those LEI with status Active. \n",
    "\n",
    "The code renames the columns and select the data we need for later validation.\n",
    "We added the possibility of saving the data into plain CSV or SDMX-CSV 2.0\n",
    "(using pysdmx).\n",
    "\n",
    "The code uses the chunking capabilities of Pandas for better memory efficiency.\n",
    "This is a prototype of the streaming capabilities with pandas in pysdmx,\n",
    "which will be available by the end of 2025.\n",
    "\n",
    "For the sake of this example,\n",
    "we distinguish between the Golden Copy original path\n",
    "(link to download the file) and the Golden Copy Changed,\n",
    "which would be the output of this code.\n",
    "\n",
    "This code requires to install the extra data from pysdmx,\n",
    "which simply install pandas.\n",
    "\n",
    "```bash\n",
    "pip install pysdmx[data]\n",
    "```"
   ],
   "id": "a62e158b6618a05e"
  },
  {
   "metadata": {
    "ExecuteTime": {
     "end_time": "2025-01-26T14:25:49.455809Z",
     "start_time": "2025-01-26T14:25:46.067568Z"
    }
   },
   "cell_type": "code",
   "source": [
    "from utils import _load_script, streaming_load_save_csv_file, to_vtl_json\n",
    "\n",
    "streaming_load_save_csv_file(\n",
    "    golden_copy_original_path=\"data_files/golden-copy-original.csv\",\n",
    "    output_filename=\"data_files/golden_copy_changed_10000_sdmx.csv\",\n",
    "    use_sdmx_csv=True, nrows=10000)"
   ],
   "id": "2efc7983a637dd91",
   "outputs": [
    {
     "name": "stdout",
     "output_type": "stream",
     "text": [
      "Number of lines written: 9553\n"
     ]
    }
   ],
   "execution_count": 1
  },
  {
   "metadata": {},
   "cell_type": "markdown",
   "source": "# Reading the ConceptScheme on SDMX-ML 2.1 using read_sdmx",
   "id": "e9cd54706832df80"
  },
  {
   "metadata": {},
   "cell_type": "markdown",
   "source": [
    "For this example,\n",
    "we generated a DataStructure on FMR called LEI_DATA,\n",
    "with Short URN: DataStructure=MD:LEI_DATA(1.0),\n",
    "with the required codelists to be used for structural validation on FMR.\n",
    "\n",
    "This structures is also available at SDMX_Structures/structures.xml file in this project,\n",
    "or at the MeaningfulData FMR (fmr.meaningfuldata.eu).\n",
    "Currently the library does not support SDMX-ML 3.0,\n",
    "so we will read only the ConceptScheme and descendants (available at SDMX_Structures/concepts.xml).\n",
    "\n",
    "To ensure we are able to validate the data correctly,\n",
    "we extended the CL_AREA codelist from SDMX\n",
    "to add a code that was present in the LEI Golden Copy.\n",
    "\n",
    "The code below reads the ConceptScheme and descendants,\n",
    "ensure you have installed the xml extra from pysdmx.\n",
    "\n",
    "```bash\n",
    "pip install pysdmx[xml]\n",
    "```"
   ],
   "id": "ba71c4a3cf16ae61"
  },
  {
   "metadata": {
    "ExecuteTime": {
     "end_time": "2025-01-26T14:25:50.332636Z",
     "start_time": "2025-01-26T14:25:49.459833Z"
    }
   },
   "cell_type": "code",
   "source": [
    "from pysdmx.io import read_sdmx\n",
    "\n",
    "structures_msg = read_sdmx(\"SDMX_Structures/concepts.xml\")\n",
    "# We can access the first concept scheme, or look for the short_urn\n",
    "concept_scheme1 = structures_msg.get_concept_schemes()[0]\n",
    "concept_scheme2 = structures_msg.get_concept_scheme(\n",
    "    \"ConceptScheme=MD:LEI_CONCEPTS(1.0)\")"
   ],
   "id": "54730d5e00a754a5",
   "outputs": [],
   "execution_count": 2
  },
  {
   "metadata": {},
   "cell_type": "markdown",
   "source": "# Retrieving the Schema from FMR",
   "id": "ee14d288997e4000"
  },
  {
   "metadata": {},
   "cell_type": "markdown",
   "source": "We may use as well the FMR Webservices to download the Schema from FMR, using the FusionJSON format.",
   "id": "d713bc0ad0a4400c"
  },
  {
   "metadata": {},
   "cell_type": "markdown",
   "source": "\n",
   "id": "18c8b5283c7d6919"
  },
  {
   "metadata": {
    "ExecuteTime": {
     "end_time": "2025-01-26T14:25:51.587687Z",
     "start_time": "2025-01-26T14:25:50.333642Z"
    }
   },
   "cell_type": "code",
   "source": [
    "from pprint import pprint\n",
    "from pysdmx.api.fmr import RegistryClient\n",
    "from pysdmx.io.format import StructureFormat\n",
    "\n",
    "client = RegistryClient(\n",
    "    \"https://fmr.meaningfuldata.eu/sdmx/v2\", format=StructureFormat.FUSION_JSON\n",
    ")\n",
    "# Recommend to use debugger to see the response\n",
    "schema = client.get_schema(\n",
    "    \"datastructure\", agency=\"MD\", id=\"LEI_DATA\", version=\"1.0\"\n",
    ")\n",
    "pprint(schema)"
   ],
   "id": "initial_id",
   "outputs": [
    {
     "ename": "Unavailable",
     "evalue": "Connection error: There was an issue connecting to the targeted registry. The query was `https://fmr.meaningfuldata.eu/sdmx/v2/schema/datastructure/MD/LEI_DATA/1.0`. The error message was: `[Errno 11001] getaddrinfo failed`.",
     "output_type": "error",
     "traceback": [
      "\u001B[1;31m---------------------------------------------------------------------------\u001B[0m",
      "\u001B[1;31mConnectError\u001B[0m                              Traceback (most recent call last)",
      "File \u001B[1;32m~\\AppData\\Local\\pypoetry\\Cache\\virtualenvs\\intro-pysdmx-webinar-4zGugqQx-py3.11\\Lib\\site-packages\\httpx\\_transports\\default.py:72\u001B[0m, in \u001B[0;36mmap_httpcore_exceptions\u001B[1;34m()\u001B[0m\n\u001B[0;32m     71\u001B[0m \u001B[38;5;28;01mtry\u001B[39;00m:\n\u001B[1;32m---> 72\u001B[0m     \u001B[38;5;28;01myield\u001B[39;00m\n\u001B[0;32m     73\u001B[0m \u001B[38;5;28;01mexcept\u001B[39;00m \u001B[38;5;167;01mException\u001B[39;00m \u001B[38;5;28;01mas\u001B[39;00m exc:\n",
      "File \u001B[1;32m~\\AppData\\Local\\pypoetry\\Cache\\virtualenvs\\intro-pysdmx-webinar-4zGugqQx-py3.11\\Lib\\site-packages\\httpx\\_transports\\default.py:236\u001B[0m, in \u001B[0;36mHTTPTransport.handle_request\u001B[1;34m(self, request)\u001B[0m\n\u001B[0;32m    235\u001B[0m \u001B[38;5;28;01mwith\u001B[39;00m map_httpcore_exceptions():\n\u001B[1;32m--> 236\u001B[0m     resp \u001B[38;5;241m=\u001B[39m \u001B[38;5;28;43mself\u001B[39;49m\u001B[38;5;241;43m.\u001B[39;49m\u001B[43m_pool\u001B[49m\u001B[38;5;241;43m.\u001B[39;49m\u001B[43mhandle_request\u001B[49m\u001B[43m(\u001B[49m\u001B[43mreq\u001B[49m\u001B[43m)\u001B[49m\n\u001B[0;32m    238\u001B[0m \u001B[38;5;28;01massert\u001B[39;00m \u001B[38;5;28misinstance\u001B[39m(resp\u001B[38;5;241m.\u001B[39mstream, typing\u001B[38;5;241m.\u001B[39mIterable)\n",
      "File \u001B[1;32m~\\AppData\\Local\\pypoetry\\Cache\\virtualenvs\\intro-pysdmx-webinar-4zGugqQx-py3.11\\Lib\\site-packages\\httpcore\\_sync\\connection_pool.py:256\u001B[0m, in \u001B[0;36mConnectionPool.handle_request\u001B[1;34m(self, request)\u001B[0m\n\u001B[0;32m    255\u001B[0m     \u001B[38;5;28mself\u001B[39m\u001B[38;5;241m.\u001B[39m_close_connections(closing)\n\u001B[1;32m--> 256\u001B[0m     \u001B[38;5;28;01mraise\u001B[39;00m exc \u001B[38;5;28;01mfrom\u001B[39;00m\u001B[38;5;250m \u001B[39m\u001B[38;5;28;01mNone\u001B[39;00m\n\u001B[0;32m    258\u001B[0m \u001B[38;5;66;03m# Return the response. Note that in this case we still have to manage\u001B[39;00m\n\u001B[0;32m    259\u001B[0m \u001B[38;5;66;03m# the point at which the response is closed.\u001B[39;00m\n",
      "File \u001B[1;32m~\\AppData\\Local\\pypoetry\\Cache\\virtualenvs\\intro-pysdmx-webinar-4zGugqQx-py3.11\\Lib\\site-packages\\httpcore\\_sync\\connection_pool.py:236\u001B[0m, in \u001B[0;36mConnectionPool.handle_request\u001B[1;34m(self, request)\u001B[0m\n\u001B[0;32m    234\u001B[0m \u001B[38;5;28;01mtry\u001B[39;00m:\n\u001B[0;32m    235\u001B[0m     \u001B[38;5;66;03m# Send the request on the assigned connection.\u001B[39;00m\n\u001B[1;32m--> 236\u001B[0m     response \u001B[38;5;241m=\u001B[39m \u001B[43mconnection\u001B[49m\u001B[38;5;241;43m.\u001B[39;49m\u001B[43mhandle_request\u001B[49m\u001B[43m(\u001B[49m\n\u001B[0;32m    237\u001B[0m \u001B[43m        \u001B[49m\u001B[43mpool_request\u001B[49m\u001B[38;5;241;43m.\u001B[39;49m\u001B[43mrequest\u001B[49m\n\u001B[0;32m    238\u001B[0m \u001B[43m    \u001B[49m\u001B[43m)\u001B[49m\n\u001B[0;32m    239\u001B[0m \u001B[38;5;28;01mexcept\u001B[39;00m ConnectionNotAvailable:\n\u001B[0;32m    240\u001B[0m     \u001B[38;5;66;03m# In some cases a connection may initially be available to\u001B[39;00m\n\u001B[0;32m    241\u001B[0m     \u001B[38;5;66;03m# handle a request, but then become unavailable.\u001B[39;00m\n\u001B[0;32m    242\u001B[0m     \u001B[38;5;66;03m#\u001B[39;00m\n\u001B[0;32m    243\u001B[0m     \u001B[38;5;66;03m# In this case we clear the connection and try again.\u001B[39;00m\n",
      "File \u001B[1;32m~\\AppData\\Local\\pypoetry\\Cache\\virtualenvs\\intro-pysdmx-webinar-4zGugqQx-py3.11\\Lib\\site-packages\\httpcore\\_sync\\connection.py:101\u001B[0m, in \u001B[0;36mHTTPConnection.handle_request\u001B[1;34m(self, request)\u001B[0m\n\u001B[0;32m    100\u001B[0m     \u001B[38;5;28mself\u001B[39m\u001B[38;5;241m.\u001B[39m_connect_failed \u001B[38;5;241m=\u001B[39m \u001B[38;5;28;01mTrue\u001B[39;00m\n\u001B[1;32m--> 101\u001B[0m     \u001B[38;5;28;01mraise\u001B[39;00m exc\n\u001B[0;32m    103\u001B[0m \u001B[38;5;28;01mreturn\u001B[39;00m \u001B[38;5;28mself\u001B[39m\u001B[38;5;241m.\u001B[39m_connection\u001B[38;5;241m.\u001B[39mhandle_request(request)\n",
      "File \u001B[1;32m~\\AppData\\Local\\pypoetry\\Cache\\virtualenvs\\intro-pysdmx-webinar-4zGugqQx-py3.11\\Lib\\site-packages\\httpcore\\_sync\\connection.py:78\u001B[0m, in \u001B[0;36mHTTPConnection.handle_request\u001B[1;34m(self, request)\u001B[0m\n\u001B[0;32m     77\u001B[0m \u001B[38;5;28;01mif\u001B[39;00m \u001B[38;5;28mself\u001B[39m\u001B[38;5;241m.\u001B[39m_connection \u001B[38;5;129;01mis\u001B[39;00m \u001B[38;5;28;01mNone\u001B[39;00m:\n\u001B[1;32m---> 78\u001B[0m     stream \u001B[38;5;241m=\u001B[39m \u001B[38;5;28;43mself\u001B[39;49m\u001B[38;5;241;43m.\u001B[39;49m\u001B[43m_connect\u001B[49m\u001B[43m(\u001B[49m\u001B[43mrequest\u001B[49m\u001B[43m)\u001B[49m\n\u001B[0;32m     80\u001B[0m     ssl_object \u001B[38;5;241m=\u001B[39m stream\u001B[38;5;241m.\u001B[39mget_extra_info(\u001B[38;5;124m\"\u001B[39m\u001B[38;5;124mssl_object\u001B[39m\u001B[38;5;124m\"\u001B[39m)\n",
      "File \u001B[1;32m~\\AppData\\Local\\pypoetry\\Cache\\virtualenvs\\intro-pysdmx-webinar-4zGugqQx-py3.11\\Lib\\site-packages\\httpcore\\_sync\\connection.py:124\u001B[0m, in \u001B[0;36mHTTPConnection._connect\u001B[1;34m(self, request)\u001B[0m\n\u001B[0;32m    123\u001B[0m \u001B[38;5;28;01mwith\u001B[39;00m Trace(\u001B[38;5;124m\"\u001B[39m\u001B[38;5;124mconnect_tcp\u001B[39m\u001B[38;5;124m\"\u001B[39m, logger, request, kwargs) \u001B[38;5;28;01mas\u001B[39;00m trace:\n\u001B[1;32m--> 124\u001B[0m     stream \u001B[38;5;241m=\u001B[39m \u001B[38;5;28;43mself\u001B[39;49m\u001B[38;5;241;43m.\u001B[39;49m\u001B[43m_network_backend\u001B[49m\u001B[38;5;241;43m.\u001B[39;49m\u001B[43mconnect_tcp\u001B[49m\u001B[43m(\u001B[49m\u001B[38;5;241;43m*\u001B[39;49m\u001B[38;5;241;43m*\u001B[39;49m\u001B[43mkwargs\u001B[49m\u001B[43m)\u001B[49m\n\u001B[0;32m    125\u001B[0m     trace\u001B[38;5;241m.\u001B[39mreturn_value \u001B[38;5;241m=\u001B[39m stream\n",
      "File \u001B[1;32m~\\AppData\\Local\\pypoetry\\Cache\\virtualenvs\\intro-pysdmx-webinar-4zGugqQx-py3.11\\Lib\\site-packages\\httpcore\\_backends\\sync.py:207\u001B[0m, in \u001B[0;36mSyncBackend.connect_tcp\u001B[1;34m(self, host, port, timeout, local_address, socket_options)\u001B[0m\n\u001B[0;32m    202\u001B[0m exc_map: ExceptionMapping \u001B[38;5;241m=\u001B[39m {\n\u001B[0;32m    203\u001B[0m     socket\u001B[38;5;241m.\u001B[39mtimeout: ConnectTimeout,\n\u001B[0;32m    204\u001B[0m     \u001B[38;5;167;01mOSError\u001B[39;00m: ConnectError,\n\u001B[0;32m    205\u001B[0m }\n\u001B[1;32m--> 207\u001B[0m \u001B[43m\u001B[49m\u001B[38;5;28;43;01mwith\u001B[39;49;00m\u001B[43m \u001B[49m\u001B[43mmap_exceptions\u001B[49m\u001B[43m(\u001B[49m\u001B[43mexc_map\u001B[49m\u001B[43m)\u001B[49m\u001B[43m:\u001B[49m\n\u001B[0;32m    208\u001B[0m \u001B[43m    \u001B[49m\u001B[43msock\u001B[49m\u001B[43m \u001B[49m\u001B[38;5;241;43m=\u001B[39;49m\u001B[43m \u001B[49m\u001B[43msocket\u001B[49m\u001B[38;5;241;43m.\u001B[39;49m\u001B[43mcreate_connection\u001B[49m\u001B[43m(\u001B[49m\n\u001B[0;32m    209\u001B[0m \u001B[43m        \u001B[49m\u001B[43maddress\u001B[49m\u001B[43m,\u001B[49m\n\u001B[0;32m    210\u001B[0m \u001B[43m        \u001B[49m\u001B[43mtimeout\u001B[49m\u001B[43m,\u001B[49m\n\u001B[0;32m    211\u001B[0m \u001B[43m        \u001B[49m\u001B[43msource_address\u001B[49m\u001B[38;5;241;43m=\u001B[39;49m\u001B[43msource_address\u001B[49m\u001B[43m,\u001B[49m\n\u001B[0;32m    212\u001B[0m \u001B[43m    \u001B[49m\u001B[43m)\u001B[49m\n",
      "File \u001B[1;32mC:\\Program Files\\Python311\\Lib\\contextlib.py:158\u001B[0m, in \u001B[0;36m_GeneratorContextManager.__exit__\u001B[1;34m(self, typ, value, traceback)\u001B[0m\n\u001B[0;32m    157\u001B[0m \u001B[38;5;28;01mtry\u001B[39;00m:\n\u001B[1;32m--> 158\u001B[0m     \u001B[38;5;28mself\u001B[39m\u001B[38;5;241m.\u001B[39mgen\u001B[38;5;241m.\u001B[39mthrow(typ, value, traceback)\n\u001B[0;32m    159\u001B[0m \u001B[38;5;28;01mexcept\u001B[39;00m \u001B[38;5;167;01mStopIteration\u001B[39;00m \u001B[38;5;28;01mas\u001B[39;00m exc:\n\u001B[0;32m    160\u001B[0m     \u001B[38;5;66;03m# Suppress StopIteration *unless* it's the same exception that\u001B[39;00m\n\u001B[0;32m    161\u001B[0m     \u001B[38;5;66;03m# was passed to throw().  This prevents a StopIteration\u001B[39;00m\n\u001B[0;32m    162\u001B[0m     \u001B[38;5;66;03m# raised inside the \"with\" statement from being suppressed.\u001B[39;00m\n",
      "File \u001B[1;32m~\\AppData\\Local\\pypoetry\\Cache\\virtualenvs\\intro-pysdmx-webinar-4zGugqQx-py3.11\\Lib\\site-packages\\httpcore\\_exceptions.py:14\u001B[0m, in \u001B[0;36mmap_exceptions\u001B[1;34m(map)\u001B[0m\n\u001B[0;32m     13\u001B[0m     \u001B[38;5;28;01mif\u001B[39;00m \u001B[38;5;28misinstance\u001B[39m(exc, from_exc):\n\u001B[1;32m---> 14\u001B[0m         \u001B[38;5;28;01mraise\u001B[39;00m to_exc(exc) \u001B[38;5;28;01mfrom\u001B[39;00m\u001B[38;5;250m \u001B[39m\u001B[38;5;21;01mexc\u001B[39;00m\n\u001B[0;32m     15\u001B[0m \u001B[38;5;28;01mraise\u001B[39;00m\n",
      "\u001B[1;31mConnectError\u001B[0m: [Errno 11001] getaddrinfo failed",
      "\nThe above exception was the direct cause of the following exception:\n",
      "\u001B[1;31mConnectError\u001B[0m                              Traceback (most recent call last)",
      "File \u001B[1;32m~\\AppData\\Local\\pypoetry\\Cache\\virtualenvs\\intro-pysdmx-webinar-4zGugqQx-py3.11\\Lib\\site-packages\\pysdmx\\api\\fmr\\__init__.py:360\u001B[0m, in \u001B[0;36mRegistryClient.__fetch\u001B[1;34m(self, url, is_ref_meta)\u001B[0m\n\u001B[0;32m    359\u001B[0m     h \u001B[38;5;241m=\u001B[39m \u001B[38;5;28mself\u001B[39m\u001B[38;5;241m.\u001B[39mheaders\n\u001B[1;32m--> 360\u001B[0m r \u001B[38;5;241m=\u001B[39m \u001B[43mclient\u001B[49m\u001B[38;5;241;43m.\u001B[39;49m\u001B[43mget\u001B[49m\u001B[43m(\u001B[49m\u001B[43murl\u001B[49m\u001B[43m,\u001B[49m\u001B[43m \u001B[49m\u001B[43mheaders\u001B[49m\u001B[38;5;241;43m=\u001B[39;49m\u001B[43mh\u001B[49m\u001B[43m)\u001B[49m\n\u001B[0;32m    361\u001B[0m r\u001B[38;5;241m.\u001B[39mraise_for_status()\n",
      "File \u001B[1;32m~\\AppData\\Local\\pypoetry\\Cache\\virtualenvs\\intro-pysdmx-webinar-4zGugqQx-py3.11\\Lib\\site-packages\\httpx\\_client.py:1066\u001B[0m, in \u001B[0;36mClient.get\u001B[1;34m(self, url, params, headers, cookies, auth, follow_redirects, timeout, extensions)\u001B[0m\n\u001B[0;32m   1061\u001B[0m \u001B[38;5;250m\u001B[39m\u001B[38;5;124;03m\"\"\"\u001B[39;00m\n\u001B[0;32m   1062\u001B[0m \u001B[38;5;124;03mSend a `GET` request.\u001B[39;00m\n\u001B[0;32m   1063\u001B[0m \n\u001B[0;32m   1064\u001B[0m \u001B[38;5;124;03m**Parameters**: See `httpx.request`.\u001B[39;00m\n\u001B[0;32m   1065\u001B[0m \u001B[38;5;124;03m\"\"\"\u001B[39;00m\n\u001B[1;32m-> 1066\u001B[0m \u001B[38;5;28;01mreturn\u001B[39;00m \u001B[38;5;28;43mself\u001B[39;49m\u001B[38;5;241;43m.\u001B[39;49m\u001B[43mrequest\u001B[49m\u001B[43m(\u001B[49m\n\u001B[0;32m   1067\u001B[0m \u001B[43m    \u001B[49m\u001B[38;5;124;43m\"\u001B[39;49m\u001B[38;5;124;43mGET\u001B[39;49m\u001B[38;5;124;43m\"\u001B[39;49m\u001B[43m,\u001B[49m\n\u001B[0;32m   1068\u001B[0m \u001B[43m    \u001B[49m\u001B[43murl\u001B[49m\u001B[43m,\u001B[49m\n\u001B[0;32m   1069\u001B[0m \u001B[43m    \u001B[49m\u001B[43mparams\u001B[49m\u001B[38;5;241;43m=\u001B[39;49m\u001B[43mparams\u001B[49m\u001B[43m,\u001B[49m\n\u001B[0;32m   1070\u001B[0m \u001B[43m    \u001B[49m\u001B[43mheaders\u001B[49m\u001B[38;5;241;43m=\u001B[39;49m\u001B[43mheaders\u001B[49m\u001B[43m,\u001B[49m\n\u001B[0;32m   1071\u001B[0m \u001B[43m    \u001B[49m\u001B[43mcookies\u001B[49m\u001B[38;5;241;43m=\u001B[39;49m\u001B[43mcookies\u001B[49m\u001B[43m,\u001B[49m\n\u001B[0;32m   1072\u001B[0m \u001B[43m    \u001B[49m\u001B[43mauth\u001B[49m\u001B[38;5;241;43m=\u001B[39;49m\u001B[43mauth\u001B[49m\u001B[43m,\u001B[49m\n\u001B[0;32m   1073\u001B[0m \u001B[43m    \u001B[49m\u001B[43mfollow_redirects\u001B[49m\u001B[38;5;241;43m=\u001B[39;49m\u001B[43mfollow_redirects\u001B[49m\u001B[43m,\u001B[49m\n\u001B[0;32m   1074\u001B[0m \u001B[43m    \u001B[49m\u001B[43mtimeout\u001B[49m\u001B[38;5;241;43m=\u001B[39;49m\u001B[43mtimeout\u001B[49m\u001B[43m,\u001B[49m\n\u001B[0;32m   1075\u001B[0m \u001B[43m    \u001B[49m\u001B[43mextensions\u001B[49m\u001B[38;5;241;43m=\u001B[39;49m\u001B[43mextensions\u001B[49m\u001B[43m,\u001B[49m\n\u001B[0;32m   1076\u001B[0m \u001B[43m\u001B[49m\u001B[43m)\u001B[49m\n",
      "File \u001B[1;32m~\\AppData\\Local\\pypoetry\\Cache\\virtualenvs\\intro-pysdmx-webinar-4zGugqQx-py3.11\\Lib\\site-packages\\httpx\\_client.py:837\u001B[0m, in \u001B[0;36mClient.request\u001B[1;34m(self, method, url, content, data, files, json, params, headers, cookies, auth, follow_redirects, timeout, extensions)\u001B[0m\n\u001B[0;32m    824\u001B[0m request \u001B[38;5;241m=\u001B[39m \u001B[38;5;28mself\u001B[39m\u001B[38;5;241m.\u001B[39mbuild_request(\n\u001B[0;32m    825\u001B[0m     method\u001B[38;5;241m=\u001B[39mmethod,\n\u001B[0;32m    826\u001B[0m     url\u001B[38;5;241m=\u001B[39murl,\n\u001B[1;32m   (...)\u001B[0m\n\u001B[0;32m    835\u001B[0m     extensions\u001B[38;5;241m=\u001B[39mextensions,\n\u001B[0;32m    836\u001B[0m )\n\u001B[1;32m--> 837\u001B[0m \u001B[38;5;28;01mreturn\u001B[39;00m \u001B[38;5;28;43mself\u001B[39;49m\u001B[38;5;241;43m.\u001B[39;49m\u001B[43msend\u001B[49m\u001B[43m(\u001B[49m\u001B[43mrequest\u001B[49m\u001B[43m,\u001B[49m\u001B[43m \u001B[49m\u001B[43mauth\u001B[49m\u001B[38;5;241;43m=\u001B[39;49m\u001B[43mauth\u001B[49m\u001B[43m,\u001B[49m\u001B[43m \u001B[49m\u001B[43mfollow_redirects\u001B[49m\u001B[38;5;241;43m=\u001B[39;49m\u001B[43mfollow_redirects\u001B[49m\u001B[43m)\u001B[49m\n",
      "File \u001B[1;32m~\\AppData\\Local\\pypoetry\\Cache\\virtualenvs\\intro-pysdmx-webinar-4zGugqQx-py3.11\\Lib\\site-packages\\httpx\\_client.py:926\u001B[0m, in \u001B[0;36mClient.send\u001B[1;34m(self, request, stream, auth, follow_redirects)\u001B[0m\n\u001B[0;32m    924\u001B[0m auth \u001B[38;5;241m=\u001B[39m \u001B[38;5;28mself\u001B[39m\u001B[38;5;241m.\u001B[39m_build_request_auth(request, auth)\n\u001B[1;32m--> 926\u001B[0m response \u001B[38;5;241m=\u001B[39m \u001B[38;5;28;43mself\u001B[39;49m\u001B[38;5;241;43m.\u001B[39;49m\u001B[43m_send_handling_auth\u001B[49m\u001B[43m(\u001B[49m\n\u001B[0;32m    927\u001B[0m \u001B[43m    \u001B[49m\u001B[43mrequest\u001B[49m\u001B[43m,\u001B[49m\n\u001B[0;32m    928\u001B[0m \u001B[43m    \u001B[49m\u001B[43mauth\u001B[49m\u001B[38;5;241;43m=\u001B[39;49m\u001B[43mauth\u001B[49m\u001B[43m,\u001B[49m\n\u001B[0;32m    929\u001B[0m \u001B[43m    \u001B[49m\u001B[43mfollow_redirects\u001B[49m\u001B[38;5;241;43m=\u001B[39;49m\u001B[43mfollow_redirects\u001B[49m\u001B[43m,\u001B[49m\n\u001B[0;32m    930\u001B[0m \u001B[43m    \u001B[49m\u001B[43mhistory\u001B[49m\u001B[38;5;241;43m=\u001B[39;49m\u001B[43m[\u001B[49m\u001B[43m]\u001B[49m\u001B[43m,\u001B[49m\n\u001B[0;32m    931\u001B[0m \u001B[43m\u001B[49m\u001B[43m)\u001B[49m\n\u001B[0;32m    932\u001B[0m \u001B[38;5;28;01mtry\u001B[39;00m:\n",
      "File \u001B[1;32m~\\AppData\\Local\\pypoetry\\Cache\\virtualenvs\\intro-pysdmx-webinar-4zGugqQx-py3.11\\Lib\\site-packages\\httpx\\_client.py:954\u001B[0m, in \u001B[0;36mClient._send_handling_auth\u001B[1;34m(self, request, auth, follow_redirects, history)\u001B[0m\n\u001B[0;32m    953\u001B[0m \u001B[38;5;28;01mwhile\u001B[39;00m \u001B[38;5;28;01mTrue\u001B[39;00m:\n\u001B[1;32m--> 954\u001B[0m     response \u001B[38;5;241m=\u001B[39m \u001B[38;5;28;43mself\u001B[39;49m\u001B[38;5;241;43m.\u001B[39;49m\u001B[43m_send_handling_redirects\u001B[49m\u001B[43m(\u001B[49m\n\u001B[0;32m    955\u001B[0m \u001B[43m        \u001B[49m\u001B[43mrequest\u001B[49m\u001B[43m,\u001B[49m\n\u001B[0;32m    956\u001B[0m \u001B[43m        \u001B[49m\u001B[43mfollow_redirects\u001B[49m\u001B[38;5;241;43m=\u001B[39;49m\u001B[43mfollow_redirects\u001B[49m\u001B[43m,\u001B[49m\n\u001B[0;32m    957\u001B[0m \u001B[43m        \u001B[49m\u001B[43mhistory\u001B[49m\u001B[38;5;241;43m=\u001B[39;49m\u001B[43mhistory\u001B[49m\u001B[43m,\u001B[49m\n\u001B[0;32m    958\u001B[0m \u001B[43m    \u001B[49m\u001B[43m)\u001B[49m\n\u001B[0;32m    959\u001B[0m     \u001B[38;5;28;01mtry\u001B[39;00m:\n",
      "File \u001B[1;32m~\\AppData\\Local\\pypoetry\\Cache\\virtualenvs\\intro-pysdmx-webinar-4zGugqQx-py3.11\\Lib\\site-packages\\httpx\\_client.py:991\u001B[0m, in \u001B[0;36mClient._send_handling_redirects\u001B[1;34m(self, request, follow_redirects, history)\u001B[0m\n\u001B[0;32m    989\u001B[0m     hook(request)\n\u001B[1;32m--> 991\u001B[0m response \u001B[38;5;241m=\u001B[39m \u001B[38;5;28;43mself\u001B[39;49m\u001B[38;5;241;43m.\u001B[39;49m\u001B[43m_send_single_request\u001B[49m\u001B[43m(\u001B[49m\u001B[43mrequest\u001B[49m\u001B[43m)\u001B[49m\n\u001B[0;32m    992\u001B[0m \u001B[38;5;28;01mtry\u001B[39;00m:\n",
      "File \u001B[1;32m~\\AppData\\Local\\pypoetry\\Cache\\virtualenvs\\intro-pysdmx-webinar-4zGugqQx-py3.11\\Lib\\site-packages\\httpx\\_client.py:1027\u001B[0m, in \u001B[0;36mClient._send_single_request\u001B[1;34m(self, request)\u001B[0m\n\u001B[0;32m   1026\u001B[0m \u001B[38;5;28;01mwith\u001B[39;00m request_context(request\u001B[38;5;241m=\u001B[39mrequest):\n\u001B[1;32m-> 1027\u001B[0m     response \u001B[38;5;241m=\u001B[39m \u001B[43mtransport\u001B[49m\u001B[38;5;241;43m.\u001B[39;49m\u001B[43mhandle_request\u001B[49m\u001B[43m(\u001B[49m\u001B[43mrequest\u001B[49m\u001B[43m)\u001B[49m\n\u001B[0;32m   1029\u001B[0m \u001B[38;5;28;01massert\u001B[39;00m \u001B[38;5;28misinstance\u001B[39m(response\u001B[38;5;241m.\u001B[39mstream, SyncByteStream)\n",
      "File \u001B[1;32m~\\AppData\\Local\\pypoetry\\Cache\\virtualenvs\\intro-pysdmx-webinar-4zGugqQx-py3.11\\Lib\\site-packages\\httpx\\_transports\\default.py:235\u001B[0m, in \u001B[0;36mHTTPTransport.handle_request\u001B[1;34m(self, request)\u001B[0m\n\u001B[0;32m    223\u001B[0m req \u001B[38;5;241m=\u001B[39m httpcore\u001B[38;5;241m.\u001B[39mRequest(\n\u001B[0;32m    224\u001B[0m     method\u001B[38;5;241m=\u001B[39mrequest\u001B[38;5;241m.\u001B[39mmethod,\n\u001B[0;32m    225\u001B[0m     url\u001B[38;5;241m=\u001B[39mhttpcore\u001B[38;5;241m.\u001B[39mURL(\n\u001B[1;32m   (...)\u001B[0m\n\u001B[0;32m    233\u001B[0m     extensions\u001B[38;5;241m=\u001B[39mrequest\u001B[38;5;241m.\u001B[39mextensions,\n\u001B[0;32m    234\u001B[0m )\n\u001B[1;32m--> 235\u001B[0m \u001B[43m\u001B[49m\u001B[38;5;28;43;01mwith\u001B[39;49;00m\u001B[43m \u001B[49m\u001B[43mmap_httpcore_exceptions\u001B[49m\u001B[43m(\u001B[49m\u001B[43m)\u001B[49m\u001B[43m:\u001B[49m\n\u001B[0;32m    236\u001B[0m \u001B[43m    \u001B[49m\u001B[43mresp\u001B[49m\u001B[43m \u001B[49m\u001B[38;5;241;43m=\u001B[39;49m\u001B[43m \u001B[49m\u001B[38;5;28;43mself\u001B[39;49m\u001B[38;5;241;43m.\u001B[39;49m\u001B[43m_pool\u001B[49m\u001B[38;5;241;43m.\u001B[39;49m\u001B[43mhandle_request\u001B[49m\u001B[43m(\u001B[49m\u001B[43mreq\u001B[49m\u001B[43m)\u001B[49m\n",
      "File \u001B[1;32mC:\\Program Files\\Python311\\Lib\\contextlib.py:158\u001B[0m, in \u001B[0;36m_GeneratorContextManager.__exit__\u001B[1;34m(self, typ, value, traceback)\u001B[0m\n\u001B[0;32m    157\u001B[0m \u001B[38;5;28;01mtry\u001B[39;00m:\n\u001B[1;32m--> 158\u001B[0m     \u001B[38;5;28mself\u001B[39m\u001B[38;5;241m.\u001B[39mgen\u001B[38;5;241m.\u001B[39mthrow(typ, value, traceback)\n\u001B[0;32m    159\u001B[0m \u001B[38;5;28;01mexcept\u001B[39;00m \u001B[38;5;167;01mStopIteration\u001B[39;00m \u001B[38;5;28;01mas\u001B[39;00m exc:\n\u001B[0;32m    160\u001B[0m     \u001B[38;5;66;03m# Suppress StopIteration *unless* it's the same exception that\u001B[39;00m\n\u001B[0;32m    161\u001B[0m     \u001B[38;5;66;03m# was passed to throw().  This prevents a StopIteration\u001B[39;00m\n\u001B[0;32m    162\u001B[0m     \u001B[38;5;66;03m# raised inside the \"with\" statement from being suppressed.\u001B[39;00m\n",
      "File \u001B[1;32m~\\AppData\\Local\\pypoetry\\Cache\\virtualenvs\\intro-pysdmx-webinar-4zGugqQx-py3.11\\Lib\\site-packages\\httpx\\_transports\\default.py:89\u001B[0m, in \u001B[0;36mmap_httpcore_exceptions\u001B[1;34m()\u001B[0m\n\u001B[0;32m     88\u001B[0m message \u001B[38;5;241m=\u001B[39m \u001B[38;5;28mstr\u001B[39m(exc)\n\u001B[1;32m---> 89\u001B[0m \u001B[38;5;28;01mraise\u001B[39;00m mapped_exc(message) \u001B[38;5;28;01mfrom\u001B[39;00m\u001B[38;5;250m \u001B[39m\u001B[38;5;21;01mexc\u001B[39;00m\n",
      "\u001B[1;31mConnectError\u001B[0m: [Errno 11001] getaddrinfo failed",
      "\nThe above exception was the direct cause of the following exception:\n",
      "\u001B[1;31mUnavailable\u001B[0m                               Traceback (most recent call last)",
      "Cell \u001B[1;32mIn[3], line 9\u001B[0m\n\u001B[0;32m      5\u001B[0m client \u001B[38;5;241m=\u001B[39m RegistryClient(\n\u001B[0;32m      6\u001B[0m     \u001B[38;5;124m\"\u001B[39m\u001B[38;5;124mhttps://fmr.meaningfuldata.eu/sdmx/v2\u001B[39m\u001B[38;5;124m\"\u001B[39m, \u001B[38;5;28mformat\u001B[39m\u001B[38;5;241m=\u001B[39mStructureFormat\u001B[38;5;241m.\u001B[39mFUSION_JSON\n\u001B[0;32m      7\u001B[0m )\n\u001B[0;32m      8\u001B[0m \u001B[38;5;66;03m# Recommend to use debugger to see the response\u001B[39;00m\n\u001B[1;32m----> 9\u001B[0m schema \u001B[38;5;241m=\u001B[39m \u001B[43mclient\u001B[49m\u001B[38;5;241;43m.\u001B[39;49m\u001B[43mget_schema\u001B[49m\u001B[43m(\u001B[49m\n\u001B[0;32m     10\u001B[0m \u001B[43m    \u001B[49m\u001B[38;5;124;43m\"\u001B[39;49m\u001B[38;5;124;43mdatastructure\u001B[39;49m\u001B[38;5;124;43m\"\u001B[39;49m\u001B[43m,\u001B[49m\u001B[43m \u001B[49m\u001B[43magency\u001B[49m\u001B[38;5;241;43m=\u001B[39;49m\u001B[38;5;124;43m\"\u001B[39;49m\u001B[38;5;124;43mMD\u001B[39;49m\u001B[38;5;124;43m\"\u001B[39;49m\u001B[43m,\u001B[49m\u001B[43m \u001B[49m\u001B[38;5;28;43mid\u001B[39;49m\u001B[38;5;241;43m=\u001B[39;49m\u001B[38;5;124;43m\"\u001B[39;49m\u001B[38;5;124;43mLEI_DATA\u001B[39;49m\u001B[38;5;124;43m\"\u001B[39;49m\u001B[43m,\u001B[49m\u001B[43m \u001B[49m\u001B[43mversion\u001B[49m\u001B[38;5;241;43m=\u001B[39;49m\u001B[38;5;124;43m\"\u001B[39;49m\u001B[38;5;124;43m1.0\u001B[39;49m\u001B[38;5;124;43m\"\u001B[39;49m\n\u001B[0;32m     11\u001B[0m \u001B[43m)\u001B[49m\n\u001B[0;32m     12\u001B[0m pprint(schema)\n",
      "File \u001B[1;32m~\\AppData\\Local\\pypoetry\\Cache\\virtualenvs\\intro-pysdmx-webinar-4zGugqQx-py3.11\\Lib\\site-packages\\pysdmx\\api\\fmr\\__init__.py:564\u001B[0m, in \u001B[0;36mRegistryClient.get_schema\u001B[1;34m(self, context, agency, id, version)\u001B[0m\n\u001B[0;32m    562\u001B[0m     ha \u001B[38;5;241m=\u001B[39m ()\n\u001B[0;32m    563\u001B[0m url \u001B[38;5;241m=\u001B[39m \u001B[38;5;28msuper\u001B[39m()\u001B[38;5;241m.\u001B[39m_schema_url(c, agency, \u001B[38;5;28mid\u001B[39m, version)\n\u001B[1;32m--> 564\u001B[0m out \u001B[38;5;241m=\u001B[39m \u001B[38;5;28;43mself\u001B[39;49m\u001B[38;5;241;43m.\u001B[39;49m\u001B[43m__fetch\u001B[49m\u001B[43m(\u001B[49m\u001B[38;5;124;43mf\u001B[39;49m\u001B[38;5;124;43m\"\u001B[39;49m\u001B[38;5;132;43;01m{\u001B[39;49;00m\u001B[38;5;28;43mself\u001B[39;49m\u001B[38;5;241;43m.\u001B[39;49m\u001B[43mapi_endpoint\u001B[49m\u001B[38;5;132;43;01m}\u001B[39;49;00m\u001B[38;5;132;43;01m{\u001B[39;49;00m\u001B[43murl\u001B[49m\u001B[38;5;132;43;01m}\u001B[39;49;00m\u001B[38;5;124;43m\"\u001B[39;49m\u001B[43m)\u001B[49m\n\u001B[0;32m    565\u001B[0m \u001B[38;5;28;01mreturn\u001B[39;00m \u001B[38;5;28msuper\u001B[39m()\u001B[38;5;241m.\u001B[39m_out(\n\u001B[0;32m    566\u001B[0m     out, \u001B[38;5;28mself\u001B[39m\u001B[38;5;241m.\u001B[39mdeser\u001B[38;5;241m.\u001B[39mschema, c\u001B[38;5;241m.\u001B[39mvalue, agency, \u001B[38;5;28mid\u001B[39m, version, ha\n\u001B[0;32m    567\u001B[0m )\n",
      "File \u001B[1;32m~\\AppData\\Local\\pypoetry\\Cache\\virtualenvs\\intro-pysdmx-webinar-4zGugqQx-py3.11\\Lib\\site-packages\\pysdmx\\api\\fmr\\__init__.py:364\u001B[0m, in \u001B[0;36mRegistryClient.__fetch\u001B[1;34m(self, url, is_ref_meta)\u001B[0m\n\u001B[0;32m    362\u001B[0m     \u001B[38;5;28;01mreturn\u001B[39;00m r\u001B[38;5;241m.\u001B[39mcontent\n\u001B[0;32m    363\u001B[0m \u001B[38;5;28;01mexcept\u001B[39;00m (httpx\u001B[38;5;241m.\u001B[39mRequestError, httpx\u001B[38;5;241m.\u001B[39mHTTPStatusError) \u001B[38;5;28;01mas\u001B[39;00m e:\n\u001B[1;32m--> 364\u001B[0m     \u001B[38;5;28;43mself\u001B[39;49m\u001B[38;5;241;43m.\u001B[39;49m\u001B[43m_error\u001B[49m\u001B[43m(\u001B[49m\u001B[43me\u001B[49m\u001B[43m)\u001B[49m\n",
      "File \u001B[1;32m~\\AppData\\Local\\pypoetry\\Cache\\virtualenvs\\intro-pysdmx-webinar-4zGugqQx-py3.11\\Lib\\site-packages\\pysdmx\\api\\fmr\\__init__.py:149\u001B[0m, in \u001B[0;36m__BaseRegistryClient._error\u001B[1;34m(self, e)\u001B[0m\n\u001B[0;32m    144\u001B[0m \u001B[38;5;28;01melse\u001B[39;00m:\n\u001B[0;32m    145\u001B[0m     msg \u001B[38;5;241m=\u001B[39m (\n\u001B[0;32m    146\u001B[0m         \u001B[38;5;124mf\u001B[39m\u001B[38;5;124m\"\u001B[39m\u001B[38;5;124mThere was an issue connecting to the targeted registry. \u001B[39m\u001B[38;5;124m\"\u001B[39m\n\u001B[0;32m    147\u001B[0m         \u001B[38;5;124mf\u001B[39m\u001B[38;5;124m\"\u001B[39m\u001B[38;5;124mThe query was `\u001B[39m\u001B[38;5;132;01m{\u001B[39;00mq\u001B[38;5;132;01m}\u001B[39;00m\u001B[38;5;124m`. The error message was: `\u001B[39m\u001B[38;5;132;01m{\u001B[39;00me\u001B[38;5;132;01m}\u001B[39;00m\u001B[38;5;124m`.\u001B[39m\u001B[38;5;124m\"\u001B[39m\n\u001B[0;32m    148\u001B[0m     )\n\u001B[1;32m--> 149\u001B[0m     \u001B[38;5;28;01mraise\u001B[39;00m Unavailable(\u001B[38;5;124m\"\u001B[39m\u001B[38;5;124mConnection error\u001B[39m\u001B[38;5;124m\"\u001B[39m, msg) \u001B[38;5;28;01mfrom\u001B[39;00m\u001B[38;5;250m \u001B[39m\u001B[38;5;21;01me\u001B[39;00m\n",
      "\u001B[1;31mUnavailable\u001B[0m: Connection error: There was an issue connecting to the targeted registry. The query was `https://fmr.meaningfuldata.eu/sdmx/v2/schema/datastructure/MD/LEI_DATA/1.0`. The error message was: `[Errno 11001] getaddrinfo failed`."
     ]
    }
   ],
   "execution_count": 3
  },
  {
   "metadata": {},
   "cell_type": "markdown",
   "source": "# Using VTL to validate the data with GLEIF data quality checks",
   "id": "3f3374bb987f74c8"
  },
  {
   "metadata": {},
   "cell_type": "markdown",
   "source": [
    "The VTL language allows us to perform validations over the data,\n",
    "with a business friendly syntax. \n",
    "\n",
    "For this purpose, at MeaningfulData we have developed a library called vtlengine,\n",
    "which is able to run VTL scripts over data.\n",
    "\n",
    "In this example,\n",
    "we will use a VTL script\n",
    "that performs validations based on the GLEIF data quality checks\n",
    "(link) and a custom validation on Subcategory data.\n",
    "\n",
    "\n",
    "Steps to use VTL from pysdmx:\n",
    "1. Convert the Schema to a VTL DataStructure\n",
    "2. Validate the data using VTL\n",
    "3. Analyse the results\n",
    "\n",
    "---------(Explanation on VTL validations usefulness,\n",
    "validating more than one component. Quick overview on the code\n",
    "using VTL Playground)---------"
   ],
   "id": "946c133de69a530"
  },
  {
   "metadata": {},
   "cell_type": "markdown",
   "source": "## Convert the Schema to a VTL DataStructure",
   "id": "c338d2e18812b045"
  },
  {
   "metadata": {},
   "cell_type": "markdown",
   "source": [
    "This code converts the pysdmx.model Schema and DataStructureDefinition objects into a VTL datastructure,\n",
    "using MeaningfulData internal format, usable only with vtlengine library.\n",
    "On pysdmx we will include this method\n",
    "but it will generate the VTL 2.1 Standard datastructure.\n",
    "Both options will be usable by the vtlengine library."
   ],
   "id": "163d8b1bb245a5c0"
  },
  {
   "metadata": {
    "ExecuteTime": {
     "end_time": "2025-01-26T14:25:51.593276Z",
     "start_time": "2025-01-26T14:25:51.593276Z"
    }
   },
   "cell_type": "code",
   "source": [
    "vtl_datastructure = to_vtl_json(schema)\n",
    "pprint(vtl_datastructure)"
   ],
   "id": "47d0aa10345373df",
   "outputs": [],
   "execution_count": null
  },
  {
   "metadata": {},
   "cell_type": "markdown",
   "source": "",
   "id": "fb8227757fc3f412"
  },
  {
   "metadata": {},
   "cell_type": "markdown",
   "source": "## Validate the data using VTL (sample 10000)",
   "id": "27033a888adf030"
  },
  {
   "metadata": {},
   "cell_type": "markdown",
   "source": "---------(Explanation on the code, overview on the VTL run method documentation)---------",
   "id": "15e00e96a0d8eb68"
  },
  {
   "metadata": {},
   "cell_type": "markdown",
   "source": "## Running the VTL script",
   "id": "42b6c4a5fbb1cefc"
  },
  {
   "metadata": {
    "ExecuteTime": {
     "end_time": "2025-01-26T14:25:51.597117Z",
     "start_time": "2025-01-26T14:25:51.597117Z"
    }
   },
   "cell_type": "code",
   "source": [
    "import pandas as pd\n",
    "from vtlengine import run\n",
    "\n",
    "script = _load_script(\"vtl/validations.vtl\")\n",
    "data_df = pd.read_csv(\"data_files/golden_copy_changed_10000.csv\")\n",
    "datapoints = {\"LEI_DATA\": data_df}\n",
    "\n",
    "validations_result = run(script=script, data_structures=vtl_datastructure,\n",
    "                         datapoints=datapoints)\n",
    "pprint(validations_result)"
   ],
   "id": "2f848e828a5a3ccb",
   "outputs": [],
   "execution_count": null
  },
  {
   "metadata": {},
   "cell_type": "markdown",
   "source": "### Getting the total number of errors (sample 10000)",
   "id": "711d3b08dba1ffe7"
  },
  {
   "metadata": {
    "ExecuteTime": {
     "end_time": "2025-01-26T14:25:51.597117Z",
     "start_time": "2025-01-26T14:25:51.597117Z"
    }
   },
   "cell_type": "code",
   "source": "validations_result['errors_count'].data",
   "id": "8637c1a26593e8d0",
   "outputs": [],
   "execution_count": null
  },
  {
   "metadata": {},
   "cell_type": "markdown",
   "source": "### Analysing data on Subcategory errors (sample 10000)",
   "id": "63e6c09dae75a208"
  },
  {
   "metadata": {
    "ExecuteTime": {
     "end_time": "2025-01-26T14:25:51.597117Z",
     "start_time": "2025-01-26T14:25:51.597117Z"
    }
   },
   "cell_type": "code",
   "source": [
    "cols_to_analyse = ['CATEGORY', 'SUBCATEGORY', 'errorcode', 'errorlevel']\n",
    "validations_result['validation.subcategories_errors'].data[cols_to_analyse]"
   ],
   "id": "c313bba6c3c7e2fa",
   "outputs": [],
   "execution_count": null
  },
  {
   "metadata": {},
   "cell_type": "markdown",
   "source": "---------(Explanation on Subcategory errors)---------",
   "id": "92941fb6751112c7"
  },
  {
   "metadata": {},
   "cell_type": "markdown",
   "source": "## Using VTL to perform calculations",
   "id": "8ea685c47091461f"
  },
  {
   "metadata": {},
   "cell_type": "markdown",
   "source": "--- Explanation on VTL scripts for calculations, overview on the code ---",
   "id": "e771f668bd6e5674"
  },
  {
   "metadata": {},
   "cell_type": "markdown",
   "source": "## Running the VTL script",
   "id": "4929e63554f557cb"
  },
  {
   "metadata": {},
   "cell_type": "code",
   "source": [
    "script = _load_script(\"vtl/calculations.vtl\")\n",
    "data_df = pd.read_csv(\"data_files/golden_copy_changed_10000.csv\")\n",
    "datapoints = {\"LEI_DATA\": data_df}\n",
    "\n",
    "calculations_result = run(script=script, data_structures=vtl_datastructure,\n",
    "                         datapoints=datapoints)\n",
    "pprint(calculations_result)"
   ],
   "id": "146e83a27074f54",
   "outputs": [],
   "execution_count": null
  },
  {
   "metadata": {},
   "cell_type": "code",
   "source": "calculations_result['lei_statistics'].data",
   "id": "daeb65e121b627a9",
   "outputs": [],
   "execution_count": null
  },
  {
   "metadata": {},
   "cell_type": "markdown",
   "source": "---------(Explanation on the calculations)---------",
   "id": "ed8d1f745c19c960"
  },
  {
   "metadata": {},
   "cell_type": "markdown",
   "source": "# Generate SDMX file with the aggregated data",
   "id": "7e3c3a8534ebc635"
  },
  {
   "metadata": {},
   "cell_type": "markdown",
   "source": [
    "Generate a PandasDataset from vtlengine output\n",
    "and use the SDMX-ML 2.1 Data write method from pysdmx."
   ],
   "id": "8dbe210864a47037"
  },
  {
   "metadata": {},
   "cell_type": "markdown",
   "source": "## Setting up the code",
   "id": "38c9fd4c3f334ab"
  },
  {
   "metadata": {},
   "cell_type": "code",
   "source": [
    "from pysdmx.io.pd import PandasDataset\n",
    "\n",
    "data = calculations_result['lei_statistics'].data\n",
    "structure = \"DataStructure=MD:LEI_AGGREGATE_STATISTICS(1.0)\"\n",
    "pd_dataset = PandasDataset(structure=structure, data=data)"
   ],
   "id": "bcbb4e50a48752cf",
   "outputs": [],
   "execution_count": null
  },
  {
   "metadata": {},
   "cell_type": "markdown",
   "source": "### Write the SDMX-ML 2.1 file",
   "id": "d54b2cef79167cf5"
  },
  {
   "metadata": {},
   "cell_type": "code",
   "source": [
    "from pysdmx.io.xml.sdmx21.writer.structure_specific import write\n",
    "\n",
    "output = write([pd_dataset], prettyprint=False)\n",
    "\n",
    "output"
   ],
   "id": "7b32b0deef8fe9f9",
   "outputs": [],
   "execution_count": null
  },
  {
   "metadata": {},
   "cell_type": "markdown",
   "source": "# Reading back the SDMX file using read_sdmx",
   "id": "842845bca04ab014"
  },
  {
   "metadata": {},
   "cell_type": "code",
   "source": [
    "from pysdmx.io import read_sdmx\n",
    "\n",
    "data_msg = read_sdmx(output)\n",
    "data_msg.data[0].data"
   ],
   "id": "9e3149a5da968de0",
   "outputs": [],
   "execution_count": null
  }
 ],
 "metadata": {
  "kernelspec": {
   "display_name": "Python 3",
   "language": "python",
   "name": "python3"
  },
  "language_info": {
   "codemirror_mode": {
    "name": "ipython",
    "version": 2
   },
   "file_extension": ".py",
   "mimetype": "text/x-python",
   "name": "python",
   "nbconvert_exporter": "python",
   "pygments_lexer": "ipython2",
   "version": "2.7.6"
  }
 },
 "nbformat": 4,
 "nbformat_minor": 5
}
