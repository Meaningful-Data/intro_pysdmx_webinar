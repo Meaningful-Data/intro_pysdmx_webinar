{
 "cells": [
  {
   "cell_type": "markdown",
   "id": "5ce654850edb5602",
   "metadata": {},
   "source": [
    "# Outside the SDMX garden, looking at LEI and GLEIF\n",
    "\n",
    "<img src=\"images/diagram_data.png\" width=\"800\" height=\"500\"/>\n",
    "<img src=\"images/use_case_diagram_start.png\" width=\"800\" height=\"500\"/>\n",
    "\n"
   ]
  },
  {
   "cell_type": "markdown",
   "id": "f6f0ec891c33d0c2",
   "metadata": {},
   "source": [
    "## Data cleaning and set up using pandas and pysdmx\n",
    "\n",
    "<img src=\"images/diagram_first_step.png\" width=\"800\" height=\"500\"/>\n",
    "\n",
    "\n",
    "(Check the full notebook for the code to download the data)"
   ]
  },
  {
   "cell_type": "code",
   "execution_count": null,
   "id": "a5809d76212a30e7",
   "metadata": {
    "ExecuteTime": {
     "end_time": "2025-01-27T19:16:18.941252Z",
     "start_time": "2025-01-27T19:16:18.336553Z"
    }
   },
   "outputs": [],
   "source": [
    "#2. Read the downloaded data with Pandas\n",
    "import pandas as pd\n",
    "\n",
    "file_name = '20250125-1600-gleif-goldencopy-lei2-golden-copy.csv'\n",
    "\n",
    "# We will read only the first 10000 rows as a sample\n",
    "data = pd.read_csv('data_files/' + file_name, dtype=str, nrows=10000)\n",
    "display(data)"
   ]
  },
  {
   "cell_type": "code",
   "execution_count": null,
   "id": "e47710901a4724a9",
   "metadata": {
    "ExecuteTime": {
     "end_time": "2025-01-27T19:16:18.988843Z",
     "start_time": "2025-01-27T19:16:18.942264Z"
    }
   },
   "outputs": [],
   "source": [
    "#3. Drop the columns not used in the DSD and rename the existing ones\n",
    "\n",
    "RENAME_DICT = {\n",
    "    \"LEI\": \"LEI\",\n",
    "    \"Entity.LegalName\": \"LEGAL_NAME\",\n",
    "    \"Entity.LegalAddress.Country\": \"COUNTRY_INCORPORATION\",\n",
    "    \"Entity.HeadquartersAddress.Country\": \"COUNTRY_HEADQUARTERS\",\n",
    "    \"Entity.EntityCategory\": \"CATEGORY\",\n",
    "    \"Entity.EntitySubCategory\": \"SUBCATEGORY\",\n",
    "    \"Entity.LegalForm.EntityLegalFormCode\": \"LEGAL_FORM\",\n",
    "    \"Entity.EntityStatus\": \"STATUS\",\n",
    "    \"Entity.LegalAddress.PostalCode\": \"POSTAL_CODE\",\n",
    "}\n",
    "\n",
    "data.rename(columns=RENAME_DICT, inplace=True)\n",
    "data = data[list(RENAME_DICT.values())]\n",
    "\n",
    "# 4. Data filtering by status\n",
    "data = data[data['STATUS'] == 'ACTIVE'].reset_index(drop=True)\n",
    "del data['STATUS']\n",
    "display(data)"
   ]
  },
  {
   "cell_type": "markdown",
   "id": "ee14d288997e4000",
   "metadata": {},
   "source": [
    "# Retrieving the Schema from FMR and generate the Dataset\n",
    "<img src=\"images/diagram_second_step.png\" width=\"800\" height=\"500\"/>\n"
   ]
  },
  {
   "cell_type": "code",
   "execution_count": null,
   "id": "initial_id",
   "metadata": {
    "ExecuteTime": {
     "end_time": "2025-01-27T19:16:20.186814Z",
     "start_time": "2025-01-27T19:16:18.988843Z"
    }
   },
   "outputs": [],
   "source": [
    "from pysdmx.api.fmr import RegistryClient\n",
    "from pysdmx.io.format import StructureFormat\n",
    "from pysdmx.io.pd import PandasDataset\n",
    "\n",
    "client = RegistryClient(\n",
    "    \"https://fmr.meaningfuldata.eu/sdmx/v2\", format=StructureFormat.FUSION_JSON\n",
    ")\n",
    "# Recommend to use debugger to see the response\n",
    "schema = client.get_schema(\n",
    "    \"datastructure\", agency=\"MD\", id=\"LEI_DATA\", version=\"1.0\"\n",
    ")\n",
    "# Generate the PandasDataset\n",
    "dataset = PandasDataset(structure=schema, data=data)\n",
    "schema.short_urn"
   ]
  },
  {
   "cell_type": "markdown",
   "id": "7a1cdedfe20a7b5f",
   "metadata": {},
   "source": [
    "# Structural validation using FMR"
   ]
  },
  {
   "cell_type": "code",
   "execution_count": null,
   "id": "a7a9c79d87384195",
   "metadata": {
    "ExecuteTime": {
     "end_time": "2025-01-27T19:16:23.412115Z",
     "start_time": "2025-01-27T19:16:20.187828Z"
    }
   },
   "outputs": [],
   "source": [
    "# Code to validate the dataset on FMR\n",
    "from utils import validate_data_fmr\n",
    "from pysdmx.io.csv.sdmx20.writer import write\n",
    "\n",
    "# Serialization on SDMX-CSV 2.0\n",
    "csv_text = write([dataset])\n",
    "\n",
    "# Validate using FMR\n",
    "result = validate_data_fmr(csv_text, host=\"fmr.meaningfuldata.eu\", port=443,\n",
    "                           use_https=True)\n",
    "result"
   ]
  },
  {
   "cell_type": "markdown",
   "id": "3f3374bb987f74c8",
   "metadata": {},
   "source": [
    "# Using VTL to validate the data with GLEIF data quality checks\n",
    "\n",
    "<img src=\"images/diagram_third_step.png\" width=\"800\" height=\"500\"/>\n"
   ]
  },
  {
   "cell_type": "markdown",
   "id": "27033a888adf030",
   "metadata": {},
   "source": [
    "## Validate the data using VTL\n",
    "\n",
    "(See validations VTL Script)"
   ]
  },
  {
   "cell_type": "markdown",
   "id": "42b6c4a5fbb1cefc",
   "metadata": {},
   "source": [
    "Running the VTL script"
   ]
  },
  {
   "cell_type": "code",
   "execution_count": null,
   "id": "2f848e828a5a3ccb",
   "metadata": {
    "ExecuteTime": {
     "end_time": "2025-01-27T19:16:25.099288Z",
     "start_time": "2025-01-27T19:16:23.412633Z"
    }
   },
   "outputs": [],
   "source": [
    "from utils import _load_script, run_vtl\n",
    "\n",
    "script = _load_script(\"vtl/validations.vtl\")\n",
    "validations_result = run_vtl(script=script, dataset=dataset)"
   ]
  },
  {
   "cell_type": "markdown",
   "id": "711d3b08dba1ffe7",
   "metadata": {},
   "source": [
    "Getting the total number of errors"
   ]
  },
  {
   "cell_type": "code",
   "execution_count": null,
   "id": "8637c1a26593e8d0",
   "metadata": {
    "ExecuteTime": {
     "end_time": "2025-01-27T19:16:25.106006Z",
     "start_time": "2025-01-27T19:16:25.099288Z"
    }
   },
   "outputs": [],
   "source": [
    "validations_result['errors_count'].data"
   ]
  },
  {
   "cell_type": "markdown",
   "id": "cdd69459b3926666",
   "metadata": {},
   "source": [
    "Analysing data on Postal Code errors"
   ]
  },
  {
   "cell_type": "code",
   "execution_count": null,
   "id": "d5f70e21874acd8",
   "metadata": {
    "ExecuteTime": {
     "end_time": "2025-01-27T19:16:25.117544Z",
     "start_time": "2025-01-27T19:16:25.107370Z"
    }
   },
   "outputs": [],
   "source": [
    "cols_to_analyse = ['LEI','COUNTRY_INCORPORATION', 'POSTAL_CODE', 'errorcode',\n",
    "                   'errorlevel']\n",
    "display(validations_result['validation.postal_codes_errors'].data[cols_to_analyse])"
   ]
  },
  {
   "cell_type": "markdown",
   "id": "d9bb34faad7b7105",
   "metadata": {},
   "source": [
    "Filtering the data to remove the errors"
   ]
  },
  {
   "cell_type": "code",
   "execution_count": null,
   "id": "d230050265da498b",
   "metadata": {
    "ExecuteTime": {
     "end_time": "2025-01-27T19:16:25.127532Z",
     "start_time": "2025-01-27T19:16:25.117544Z"
    }
   },
   "outputs": [],
   "source": [
    "leis_to_delete = validations_result['validation.postal_codes_errors'].data['LEI']\n",
    "valid_data = dataset.data[~dataset.data['LEI'].isin(leis_to_delete)].reset_index(drop=True)\n",
    "print(f\"Number of LEIs removed: {len(leis_to_delete)}\")\n",
    "print(f\"Number of LEIs remaining: {len(valid_data)}\")"
   ]
  },
  {
   "cell_type": "markdown",
   "id": "8ea685c47091461f",
   "metadata": {},
   "source": [
    "## Using VTL to perform calculations\n",
    "\n",
    "<img src=\"images/diagram_fourth_step.png\" width=\"800\" height=\"500\"/>\n",
    "\n",
    "\n",
    "(See calculations.vtl)"
   ]
  },
  {
   "cell_type": "markdown",
   "id": "4929e63554f557cb",
   "metadata": {},
   "source": [
    "Running the VTL script on all data"
   ]
  },
  {
   "cell_type": "code",
   "execution_count": null,
   "id": "146e83a27074f54",
   "metadata": {
    "ExecuteTime": {
     "end_time": "2025-01-27T19:16:43.100913Z",
     "start_time": "2025-01-27T19:16:25.127532Z"
    }
   },
   "outputs": [],
   "source": [
    "script = _load_script(\"vtl/calculations.vtl\")\n",
    "all_dataset = PandasDataset(structure=schema, data=pd.read_csv('data_files/golden_copy_changed.csv', dtype=str))\n",
    "\n",
    "calculations_result = run_vtl(script=script, dataset=all_dataset)\n",
    "display(calculations_result['lei_statistics'].data)"
   ]
  },
  {
   "cell_type": "markdown",
   "id": "71803eea9fc40c55",
   "metadata": {},
   "source": [
    "# Diagram on aggregated statistics"
   ]
  },
  {
   "cell_type": "code",
   "execution_count": null,
   "id": "36c3cbd3e98947af",
   "metadata": {
    "ExecuteTime": {
     "end_time": "2025-01-27T19:23:11.076062Z",
     "start_time": "2025-01-27T19:23:10.864762Z"
    }
   },
   "outputs": [],
   "source": [
    "import matplotlib.pyplot as plt\n",
    "\n",
    "df = data[data['TYPE_MEASURE'] == 'NUMBER_ENTITIES_DIFF_HQ']\n",
    "df = df.astype({'OBS_VALUE': int})\n",
    "\n",
    "plt.figure()\n",
    "df.nlargest(columns='OBS_VALUE', n=20).plot(x='COUNTRY', y='OBS_VALUE', kind='bar')\n",
    "plt.show()"
   ]
  },
  {
   "cell_type": "markdown",
   "id": "80b986db375547df",
   "metadata": {},
   "source": [
    "The countries with the most LEIs with the HQ in a different country\n",
    "than the incorporation is Cayman Islands, Virgin Islands and Luxembourg"
   ]
  },
  {
   "cell_type": "markdown",
   "id": "7e3c3a8534ebc635",
   "metadata": {},
   "source": [
    "# Generate PandasDataset with the aggregated data"
   ]
  },
  {
   "cell_type": "code",
   "execution_count": null,
   "id": "67c769825ddd09e8",
   "metadata": {
    "ExecuteTime": {
     "end_time": "2025-01-27T19:23:15.630002Z",
     "start_time": "2025-01-27T19:23:14.566056Z"
    }
   },
   "outputs": [],
   "source": [
    "from pysdmx.io import read_sdmx\n",
    "from pysdmx.io.pd import PandasDataset\n",
    "\n",
    "# Reading SDMX-ML 2.1 Message\n",
    "msg = read_sdmx(\n",
    "    \"https://fmr.meaningfuldata.eu/sdmx/v2/structure/datastructure/MD/LEI_AGGREGATE_STATISTICS/+/?format=sdmx-2.1&references=descendants&prettyPrint=true\")\n",
    "\n",
    "# Extracting DataStructureDefinition MD:LEI_AGGREGATE_STATISTICS(1.0)\n",
    "dsd = msg.get_data_structure_definition(\n",
    "    \"DataStructure=MD:LEI_AGGREGATE_STATISTICS(1.0)\")\n",
    "schema_aggregated = dsd.to_schema()\n",
    "\n",
    "# Generating the dataset\n",
    "data = calculations_result['lei_statistics'].data\n",
    "pd_dataset = PandasDataset(structure=schema_aggregated, data=data)\n",
    "display(pd_dataset.data)"
   ]
  },
  {
   "cell_type": "markdown",
   "id": "d54b2cef79167cf5",
   "metadata": {},
   "source": [
    "# Write the SDMX-ML 2.1 file\n",
    "\n",
    "<img src=\"images/diagram_fifth_step.png\" width=\"800\" height=\"500\"/>\n"
   ]
  },
  {
   "cell_type": "code",
   "execution_count": null,
   "id": "7b32b0deef8fe9f9",
   "metadata": {},
   "outputs": [],
   "source": [
    "from pysdmx.io.xml.sdmx21.writer.structure_specific import write\n",
    "\n",
    "xml_str = write([pd_dataset], prettyprint=True)\n",
    "\n",
    "print(xml_str)"
   ]
  }
 ],
 "metadata": {
  "kernelspec": {
   "display_name": "Python 3 (ipykernel)",
   "language": "python",
   "name": "python3"
  },
  "language_info": {
   "codemirror_mode": {
    "name": "ipython",
    "version": 3
   },
   "file_extension": ".py",
   "mimetype": "text/x-python",
   "name": "python",
   "nbconvert_exporter": "python",
   "pygments_lexer": "ipython3",
   "version": "3.11.9"
  }
 },
 "nbformat": 4,
 "nbformat_minor": 5
}
